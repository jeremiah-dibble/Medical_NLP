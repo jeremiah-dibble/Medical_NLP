{
  "cells": [
    {
      "cell_type": "markdown",
      "metadata": {
        "id": "8Sk0woeMMRz6"
      },
      "source": [
        "[![Open In Colab](https://colab.research.google.com/assets/colab-badge.svg)](https://colab.research.google.com/drive/1I_Yc0puEBRGgPdVd8noZuBOtEoYh5clP?usp=sharing)\n",
        "\n",
        "\n",
        "# Install and import packages \n",
        "\n"
      ]
    },
    {
      "cell_type": "code",
      "execution_count": null,
      "metadata": {
        "id": "KKGiziVa-Ou5"
      },
      "outputs": [],
      "source": [
        "import os\n",
        "import pandas as pd\n",
        "import numpy as np"
      ]
    },
    {
      "cell_type": "code",
      "execution_count": null,
      "metadata": {
        "collapsed": true,
        "id": "7yDbel7fw8kD",
        "jupyter": {
          "outputs_hidden": true
        },
        "scrolled": true,
        "tags": []
      },
      "outputs": [],
      "source": [
        "!pip install sentence_transformers\n",
        "!pip install datasets\n",
        "!pip install transformers\n",
        "!pip install scikit-learn\n",
        "!pip install unzip"
      ]
    },
    {
      "cell_type": "code",
      "execution_count": null,
      "metadata": {
        "id": "UjFUAH74p6jV"
      },
      "outputs": [],
      "source": [
        "from sentence_transformers import SentenceTransformer\n",
        "import datasets\n",
        "from datasets import load_metric\n",
        "from transformers import (\n",
        "    AutoModelForSequenceClassification,\n",
        "    AutoTokenizer,\n",
        "    TrainingArguments,\n",
        "    Trainer,\n",
        "    DataCollatorWithPadding,\n",
        ")\n",
        "from tqdm.auto import tqdm"
      ]
    },
    {
      "cell_type": "markdown",
      "source": [
        "Upload the zip from this link since it is to large for wget\"https://drive.google.com/uc?export=download&id=14nA64QrUsuUJUxB_Gatgtiobo6S9vdam\""
      ],
      "metadata": {
        "id": "zETIcEx5wfB8"
      }
    },
    {
      "cell_type": "code",
      "source": [
        "#!wget -O csv.zip --no-check-certificate \"https://drive.google.com/uc?export=download&id=14nA64QrUsuUJUxB_Gatgtiobo6S9vdam\"\n"
      ],
      "metadata": {
        "id": "jfEWs3r4YF8i"
      },
      "execution_count": null,
      "outputs": []
    },
    {
      "cell_type": "code",
      "execution_count": null,
      "metadata": {
        "colab": {
          "base_uri": "https://localhost:8080/"
        },
        "id": "W2-cQAAsYVrQ",
        "outputId": "d807ec86-4d61-45a8-cb56-c8c76f1b6439",
        "tags": []
      },
      "outputs": [
        {
          "output_type": "stream",
          "name": "stdout",
          "text": [
            "Archive:  csv.zip\n",
            "   creating: 2022_04_04T07_13_58Z/\n",
            "  inflating: 2022_04_04T07_13_58Z/claims.csv  \n",
            "  inflating: 2022_04_04T07_13_58Z/procedures.csv  \n",
            "  inflating: 2022_04_04T07_13_58Z/allergies.csv  \n",
            "  inflating: 2022_04_04T07_13_58Z/supplies.csv  \n",
            "  inflating: 2022_04_04T07_13_58Z/devices.csv  \n",
            "  inflating: 2022_04_04T07_13_58Z/encounters.csv  \n",
            "  inflating: 2022_04_04T07_13_58Z/payers.csv  \n",
            "  inflating: 2022_04_04T07_13_58Z/providers.csv  \n",
            "  inflating: 2022_04_04T07_13_58Z/payer_transitions.csv  \n",
            "  inflating: 2022_04_04T07_13_58Z/conditions.csv  \n",
            "  inflating: 2022_04_04T07_13_58Z/claims_transactions.csv  \n",
            "  inflating: 2022_04_04T07_13_58Z/patients.csv  \n",
            "  inflating: 2022_04_04T07_13_58Z/organizations.csv  \n",
            "  inflating: 2022_04_04T07_13_58Z/immunizations.csv  \n",
            "  inflating: 2022_04_04T07_13_58Z/imaging_studies.csv  \n",
            "  inflating: 2022_04_04T07_13_58Z/careplans.csv  \n",
            "  inflating: 2022_04_04T07_13_58Z/medications.csv  \n",
            "  inflating: 2022_04_04T07_13_58Z/observations.csv  \n"
          ]
        }
      ],
      "source": [
        "#Upload csv.zip and text.zip from the drop box folder CogAI/synthea_colab\n",
        "\n",
        "!unzip csv.zip\n"
      ]
    },
    {
      "cell_type": "markdown",
      "metadata": {
        "id": "MA_IEdQeOHCR"
      },
      "source": [
        "# Load the model and encode any text"
      ]
    },
    {
      "cell_type": "code",
      "execution_count": null,
      "metadata": {
        "colab": {
          "base_uri": "https://localhost:8080/"
        },
        "id": "yT74H7mRwVLr",
        "outputId": "d89c2936-192b-4a70-bbc4-02503d08af83"
      },
      "outputs": [
        {
          "output_type": "stream",
          "name": "stderr",
          "text": [
            "WARNING:root:No sentence-transformers model found with name /root/.cache/torch/sentence_transformers/emilyalsentzer_Bio_ClinicalBERT. Creating a new one with MEAN pooling.\n",
            "Some weights of the model checkpoint at /root/.cache/torch/sentence_transformers/emilyalsentzer_Bio_ClinicalBERT were not used when initializing BertModel: ['cls.predictions.decoder.weight', 'cls.predictions.bias', 'cls.seq_relationship.bias', 'cls.seq_relationship.weight', 'cls.predictions.transform.dense.weight', 'cls.predictions.transform.LayerNorm.weight', 'cls.predictions.transform.LayerNorm.bias', 'cls.predictions.transform.dense.bias']\n",
            "- This IS expected if you are initializing BertModel from the checkpoint of a model trained on another task or with another architecture (e.g. initializing a BertForSequenceClassification model from a BertForPreTraining model).\n",
            "- This IS NOT expected if you are initializing BertModel from the checkpoint of a model that you expect to be exactly identical (initializing a BertForSequenceClassification model from a BertForSequenceClassification model).\n"
          ]
        }
      ],
      "source": [
        "#Load the pretrained model and save it locally or simply load it.\n",
        "cwd = os.getcwd()\n",
        "modelPath = cwd+\"/models/BioBERT\"\n",
        "bioBERT = SentenceTransformer('emilyalsentzer/Bio_ClinicalBERT')\n",
        "bioBERT.save(modelPath)\n",
        "local_bioBERT = SentenceTransformer(modelPath)"
      ]
    },
    {
      "cell_type": "code",
      "execution_count": null,
      "metadata": {
        "id": "Inpz3EMpp9GV"
      },
      "outputs": [],
      "source": [
        "#model = SentenceTransformer(bioBERT)\n",
        "model = local_bioBERT\n",
        "example_embeddings = model.encode(\"we can embed anything\")"
      ]
    },
    {
      "cell_type": "markdown",
      "metadata": {
        "id": "Y_YdMvB7Oa1R",
        "tags": []
      },
      "source": [
        "# Format patient info "
      ]
    },
    {
      "cell_type": "markdown",
      "metadata": {
        "id": "LPO0-POmSt_d",
        "tags": []
      },
      "source": [
        "## Create a dictonary of the medical records csvs and a list of patients "
      ]
    },
    {
      "cell_type": "code",
      "execution_count": null,
      "metadata": {
        "id": "-vjXP9-Z9l6p",
        "tags": []
      },
      "outputs": [],
      "source": [
        "csvs = {}\n",
        "synthea = os.getcwd()\n",
        "csv_loc = synthea+'/2022_04_04T07_13_58Z/'\n",
        "csv_names = os.listdir(csv_loc)\n",
        "for i, name in enumerate(csv_names):\n",
        "    csv_names[i] = name[:-4]\n",
        "    csvs[name[:-4]] = pd.read_csv(csv_loc+ name)\n"
      ]
    },
    {
      "cell_type": "code",
      "execution_count": null,
      "metadata": {
        "id": "93bToCA1xdZN",
        "colab": {
          "base_uri": "https://localhost:8080/"
        },
        "outputId": "73313756-0c0d-4e9d-a55e-59ed3c1d4af4"
      },
      "outputs": [
        {
          "output_type": "stream",
          "name": "stdout",
          "text": [
            "Number of patients:  1140\n"
          ]
        }
      ],
      "source": [
        "#Collect all the uniqe patient IDs\n",
        "\n",
        "info_keys = ['allergies', 'medications', 'conditions', 'careplans', \n",
        "             'observations', 'procedures', 'immunizations', 'imaging_studies']\n",
        "ids = np.array(csvs['procedures']['PATIENT'])\n",
        "\n",
        "for info_key in info_keys:\n",
        "    csv = csvs[info_key]\n",
        "    if 'PATIENTID' in csv.keys():\n",
        "        key = \"PATIENTID\"\n",
        "    else:\n",
        "        key = \"PATIENT\"\n",
        "    uniq_ids = csv[key].unique()\n",
        "    ids = np.concatenate((ids, np.array(uniq_ids)), axis=0)\n",
        "ids = np.unique(ids)\n",
        "print('Number of patients: ', ids.shape[0])"
      ]
    },
    {
      "cell_type": "markdown",
      "metadata": {
        "tags": [],
        "id": "3-7nsf1dwVLv"
      },
      "source": [
        "Create CSVs with just codes and descriptions (lables and text)"
      ]
    },
    {
      "cell_type": "code",
      "execution_count": null,
      "metadata": {
        "id": "frPhKTYYwVLv",
        "colab": {
          "base_uri": "https://localhost:8080/"
        },
        "outputId": "24d0978b-d0da-4488-a878-01483fa63d8f"
      },
      "outputs": [
        {
          "output_type": "stream",
          "name": "stdout",
          "text": [
            "claims_transactions was unchanged\n",
            "payers was unchanged\n",
            "organizations was unchanged\n",
            "claims was unchanged\n",
            "patients was unchanged\n",
            "payer_transitions was unchanged\n",
            "imaging_studies was unchanged\n",
            "providers was unchanged\n",
            "dict_keys(['procedures', 'immunizations', 'encounters', 'observations', 'allergies', 'supplies', 'careplans', 'medications', 'conditions', 'devices'])\n"
          ]
        }
      ],
      "source": [
        "lean_csvs = {}\n",
        "for key in csvs:\n",
        "    csv = csvs[key]\n",
        "    drop_list= list(csv.columns)\n",
        "    try:\n",
        "        drop_list.remove('DESCRIPTION')\n",
        "        drop_list.remove('CODE')\n",
        "        df = csv.drop(labels=drop_list, axis=1)\n",
        "        lean_csvs[key] = df\n",
        "    except:\n",
        "        print(key + ' was unchanged')\n",
        "print(lean_csvs.keys())\n"
      ]
    },
    {
      "cell_type": "markdown",
      "metadata": {
        "id": "taYyVUrbwVLv"
      },
      "source": [
        "Turn the a csv dataframe into a Huggingfaces dataset"
      ]
    },
    {
      "cell_type": "code",
      "execution_count": null,
      "metadata": {
        "id": "SZ52WXKMwVLw",
        "colab": {
          "base_uri": "https://localhost:8080/"
        },
        "outputId": "dfa7d499-cf0e-493d-a9ac-303b3ec6302a"
      },
      "outputs": [
        {
          "output_type": "execute_result",
          "data": {
            "text/plain": [
              "178"
            ]
          },
          "metadata": {},
          "execution_count": 14
        }
      ],
      "source": [
        "# Pick the type of codes/ csv name\n",
        "csv_name = 'procedures'\n",
        "# Hugging Face requires the target to be named 'labels'.\n",
        "lean_csvs[csv_name].columns = ['labels', 'DESCRIPTION']\n",
        "mod_code_procedures = lean_csvs[csv_name].copy()\n",
        "# We are translating the codes to their index in a list of the unique codes.\n",
        "# This is need to insure the number of labels in the model is equal to the \n",
        "# maximum number that can be given as a label\n",
        "code_translation = list(set(lean_csvs[csv_name]['labels']))\n",
        "translated_codes = []\n",
        "for code in mod_code_procedures['labels']:\n",
        "    translated_codes.append(code_translation.index(code))\n",
        "mod_code_procedures['labels'] =translated_codes \n",
        "#Turn the dataframe into a dataset\n",
        "procedures_ds = datasets.Dataset.from_pandas(mod_code_procedures)\n",
        "train_dataset, test_dataset= procedures_ds.train_test_split(test_size=0.1).values()\n",
        "#train_dataset, validation_dataset= train_dataset.train_test_split(test_size=0.1).values()\n",
        "dataset = datasets.DatasetDict({\"train\":train_dataset,\"test\":test_dataset})\n",
        "# Set the number of labels to the number of unique labels\n",
        "num_lab = len(lean_csvs[csv_name]['labels'].unique())\n",
        "mod_code_procedures['labels'].max()"
      ]
    },
    {
      "cell_type": "markdown",
      "metadata": {
        "tags": [],
        "id": "ZPDstpg1wVLw"
      },
      "source": [
        "# Fine Tuning"
      ]
    },
    {
      "cell_type": "code",
      "execution_count": null,
      "metadata": {
        "collapsed": true,
        "jupyter": {
          "outputs_hidden": true
        },
        "tags": [],
        "id": "SuML6rp_wVLx",
        "colab": {
          "base_uri": "https://localhost:8080/",
          "height": 150,
          "referenced_widgets": [
            "94a440b3b30844969b2f4af1e9fe1bcf",
            "2e65754cee7d442d9a2a15c28ef914b1",
            "20f0cadc28254ca491f208a08b897c32",
            "ee91c659247c4cd58546186a4210ffa9",
            "9615347701f540c0a724503a3a595f1b",
            "0e0d09dfcc644773956eff2edcd7560d",
            "9a0ad651575749eabba6c9bcc754d03a",
            "ab341e0648d344a5b061412e730ba1a3",
            "3750a9d08fc94b6cb9a5155f85423ac7",
            "e38cbe7c03934179ad83db3a1de61188",
            "4678691f2e6b4524908ecc5311d37aee",
            "06d0c2c496a54519bb0f55a28eb337dc",
            "12ec65304ce245f7b38eb1a2d83d3d8e",
            "6defee1c3ed04a85b7e9f1ea2c582bc8",
            "ab89f40aaa3448988b7943e95f3a0da3",
            "c1ca70a196c94480958e62bb93ff0358",
            "22a8ddb15e254c61a3c14c05fcd0acb5",
            "4c19c019eaf648699c2a12fe55cd59fc",
            "71d2ff8c29b04b799035316d667ebae2",
            "ac897b7683d54b40b2cbf028b2696dc8",
            "4f79dc3eea9e43d7a1cc4b55cce05d74",
            "214449d4f1474d3184d1f19f479bad34"
          ]
        },
        "outputId": "ab71d45c-4947-4570-fc20-c7e10c6ec103"
      },
      "outputs": [
        {
          "output_type": "stream",
          "name": "stderr",
          "text": [
            "Some weights of BertForSequenceClassification were not initialized from the model checkpoint at /content/models/BioBERT and are newly initialized: ['classifier.weight', 'classifier.bias']\n",
            "You should probably TRAIN this model on a down-stream task to be able to use it for predictions and inference.\n"
          ]
        },
        {
          "output_type": "display_data",
          "data": {
            "text/plain": [
              "  0%|          | 0/70 [00:00<?, ?ba/s]"
            ],
            "application/vnd.jupyter.widget-view+json": {
              "version_major": 2,
              "version_minor": 0,
              "model_id": "94a440b3b30844969b2f4af1e9fe1bcf"
            }
          },
          "metadata": {}
        },
        {
          "output_type": "stream",
          "name": "stderr",
          "text": [
            "Asking to pad to max_length but no maximum length is provided and the model has no predefined maximum length. Default to no padding.\n",
            "Asking to truncate to max_length but no maximum length is provided and the model has no predefined maximum length. Default to no truncation.\n"
          ]
        },
        {
          "output_type": "display_data",
          "data": {
            "text/plain": [
              "  0%|          | 0/8 [00:00<?, ?ba/s]"
            ],
            "application/vnd.jupyter.widget-view+json": {
              "version_major": 2,
              "version_minor": 0,
              "model_id": "06d0c2c496a54519bb0f55a28eb337dc"
            }
          },
          "metadata": {}
        }
      ],
      "source": [
        "# Load your model locally or from a huggingfaces locations\n",
        "# \n",
        "from transformers import AutoTokenizer\n",
        "from transformers import AutoModelForSequenceClassification\n",
        "\n",
        "#bioBERT = 'emilyalsentzer/Bio_ClinicalBERT'\n",
        "bioBERT = modelPath\n",
        "tokenizer = AutoTokenizer.from_pretrained(bioBERT)\n",
        "model = AutoModelForSequenceClassification.from_pretrained(bioBERT, num_labels=num_lab)\n",
        "\n",
        "\n",
        "# Tokenize the dataset and change \"DESCRIPTION\" to the name of your text feature if it is not \"DESCRIPTION\"\n",
        "def tokenize_function(examples):\n",
        "    return tokenizer(examples[\"DESCRIPTION\"], padding=\"max_length\", truncation=True)\n",
        "\n",
        "tokenized_datasets = dataset.map(tokenize_function, batched=True)"
      ]
    },
    {
      "cell_type": "code",
      "execution_count": null,
      "metadata": {
        "id": "yqOfdGW8wVLx",
        "colab": {
          "base_uri": "https://localhost:8080/"
        },
        "outputId": "ea4376fa-4051-435a-f395-4e691639d460"
      },
      "outputs": [
        {
          "output_type": "execute_result",
          "data": {
            "text/plain": [
              "Dataset({\n",
              "    features: ['labels', 'DESCRIPTION'],\n",
              "    num_rows: 69711\n",
              "})"
            ]
          },
          "metadata": {},
          "execution_count": 16
        }
      ],
      "source": [
        "train_dataset"
      ]
    },
    {
      "cell_type": "code",
      "execution_count": null,
      "metadata": {
        "id": "kFfLiBnbwVLx"
      },
      "outputs": [],
      "source": [
        "small_train_dataset = tokenized_datasets[\"train\"].shuffle(seed=42).select(range(1000))\n",
        "small_eval_dataset = tokenized_datasets[\"test\"].shuffle(seed=42).select(range(1000))\n",
        "num_examples =5000\n",
        "train_dataset = tokenized_datasets[\"train\"].shuffle(seed=1).select(range(num_examples))\n",
        "eval_dataset = tokenized_datasets[\"test\"].shuffle(seed=1).select(range(1000))\n",
        "# Check that the max lable does not exccede the number of lables\n",
        "assert num_lab > max(small_train_dataset['labels'])"
      ]
    },
    {
      "cell_type": "code",
      "execution_count": null,
      "metadata": {
        "id": "hLKOWQ9awVLy",
        "colab": {
          "base_uri": "https://localhost:8080/",
          "height": 49,
          "referenced_widgets": [
            "acaa033ec9834976b0db445137fd2afe",
            "8a949eb5db5e44cfacc6071f57542d17",
            "6fc1c8b38d5e4b3f8d69cdc0e6c0ef23",
            "2aaee769de224a3a8df5ebdc781846e8",
            "27de85b13a654bc6b8ebe9dd62580213",
            "0f38037097d14caf999b16fbaa654b23",
            "2765dff953f24e17b99e72f9f77632b7",
            "089e44b39af94cf48747b88d44ab75ef",
            "af35e7b7f22e4c369f400375696c5e57",
            "9e316df9dc4e4e4085c338e12c3eecd9",
            "9f26dc66cb7a43aca511d9b9e0f1d422"
          ]
        },
        "outputId": "3bfa5325-673e-4bd1-8cea-5dc8e2abe447"
      },
      "outputs": [
        {
          "output_type": "display_data",
          "data": {
            "text/plain": [
              "Downloading builder script:   0%|          | 0.00/1.41k [00:00<?, ?B/s]"
            ],
            "application/vnd.jupyter.widget-view+json": {
              "version_major": 2,
              "version_minor": 0,
              "model_id": "acaa033ec9834976b0db445137fd2afe"
            }
          },
          "metadata": {}
        }
      ],
      "source": [
        "# Define the rest of the elements of the Trainer\n",
        "metric = load_metric(\"accuracy\")\n",
        "def compute_metrics(eval_pred):\n",
        "    logits, labels = eval_pred\n",
        "    predictions = np.argmax(logits, axis=-1)\n",
        "    return metric.compute(predictions=predictions, references=labels)"
      ]
    },
    {
      "cell_type": "code",
      "execution_count": null,
      "metadata": {
        "id": "1vMpNX2VwVLy"
      },
      "outputs": [],
      "source": [
        "# Training arguments defines the specific arguments being passed to Trainer\n",
        "training_args = TrainingArguments(\n",
        "    output_dir=\"test_trainer\",\n",
        "    #learning_rate=2e-5,\n",
        "    #per_device_train_batch_size=16,\n",
        "    #per_device_eval_batch_size=16,\n",
        "    num_train_epochs=5,\n",
        "    evaluation_strategy=\"epoch\",\n",
        "    #weight_decay=0.01,\n",
        ")\n",
        "#training_args = TrainingArguments(output_dir=\"test_trainer\", evaluation_strategy=\"epoch\", num_train_epochs=5 )\n",
        "data_collator = DataCollatorWithPadding(tokenizer=tokenizer)"
      ]
    },
    {
      "cell_type": "code",
      "execution_count": null,
      "metadata": {
        "id": "ByZTdDXLwVLy",
        "colab": {
          "base_uri": "https://localhost:8080/",
          "height": 1000
        },
        "outputId": "abdc6e46-aa0e-47b1-db48-b3df1f01752a"
      },
      "outputs": [
        {
          "output_type": "stream",
          "name": "stderr",
          "text": [
            "The following columns in the training set  don't have a corresponding argument in `BertForSequenceClassification.forward` and have been ignored: DESCRIPTION. If DESCRIPTION are not expected by `BertForSequenceClassification.forward`,  you can safely ignore this message.\n",
            "/usr/local/lib/python3.7/dist-packages/transformers/optimization.py:309: FutureWarning: This implementation of AdamW is deprecated and will be removed in a future version. Use the PyTorch implementation torch.optim.AdamW instead, or set `no_deprecation_warning=True` to disable this warning\n",
            "  FutureWarning,\n",
            "***** Running training *****\n",
            "  Num examples = 5000\n",
            "  Num Epochs = 5\n",
            "  Instantaneous batch size per device = 8\n",
            "  Total train batch size (w. parallel, distributed & accumulation) = 8\n",
            "  Gradient Accumulation steps = 1\n",
            "  Total optimization steps = 3125\n"
          ]
        },
        {
          "output_type": "display_data",
          "data": {
            "text/plain": [
              "<IPython.core.display.HTML object>"
            ],
            "text/html": [
              "\n",
              "    <div>\n",
              "      \n",
              "      <progress value='3125' max='3125' style='width:300px; height:20px; vertical-align: middle;'></progress>\n",
              "      [3125/3125 05:00, Epoch 5/5]\n",
              "    </div>\n",
              "    <table border=\"1\" class=\"dataframe\">\n",
              "  <thead>\n",
              " <tr style=\"text-align: left;\">\n",
              "      <th>Epoch</th>\n",
              "      <th>Training Loss</th>\n",
              "      <th>Validation Loss</th>\n",
              "      <th>Accuracy</th>\n",
              "    </tr>\n",
              "  </thead>\n",
              "  <tbody>\n",
              "    <tr>\n",
              "      <td>1</td>\n",
              "      <td>1.323800</td>\n",
              "      <td>0.340953</td>\n",
              "      <td>0.966000</td>\n",
              "    </tr>\n",
              "    <tr>\n",
              "      <td>2</td>\n",
              "      <td>0.300500</td>\n",
              "      <td>0.147776</td>\n",
              "      <td>0.985000</td>\n",
              "    </tr>\n",
              "    <tr>\n",
              "      <td>3</td>\n",
              "      <td>0.149500</td>\n",
              "      <td>0.094170</td>\n",
              "      <td>0.992000</td>\n",
              "    </tr>\n",
              "    <tr>\n",
              "      <td>4</td>\n",
              "      <td>0.058900</td>\n",
              "      <td>0.070109</td>\n",
              "      <td>0.995000</td>\n",
              "    </tr>\n",
              "    <tr>\n",
              "      <td>5</td>\n",
              "      <td>0.049900</td>\n",
              "      <td>0.061205</td>\n",
              "      <td>0.996000</td>\n",
              "    </tr>\n",
              "  </tbody>\n",
              "</table><p>"
            ]
          },
          "metadata": {}
        },
        {
          "output_type": "stream",
          "name": "stderr",
          "text": [
            "Saving model checkpoint to test_trainer/checkpoint-500\n",
            "Configuration saved in test_trainer/checkpoint-500/config.json\n",
            "Model weights saved in test_trainer/checkpoint-500/pytorch_model.bin\n",
            "tokenizer config file saved in test_trainer/checkpoint-500/tokenizer_config.json\n",
            "Special tokens file saved in test_trainer/checkpoint-500/special_tokens_map.json\n",
            "The following columns in the evaluation set  don't have a corresponding argument in `BertForSequenceClassification.forward` and have been ignored: DESCRIPTION. If DESCRIPTION are not expected by `BertForSequenceClassification.forward`,  you can safely ignore this message.\n",
            "***** Running Evaluation *****\n",
            "  Num examples = 1000\n",
            "  Batch size = 8\n",
            "Saving model checkpoint to test_trainer/checkpoint-1000\n",
            "Configuration saved in test_trainer/checkpoint-1000/config.json\n",
            "Model weights saved in test_trainer/checkpoint-1000/pytorch_model.bin\n",
            "tokenizer config file saved in test_trainer/checkpoint-1000/tokenizer_config.json\n",
            "Special tokens file saved in test_trainer/checkpoint-1000/special_tokens_map.json\n",
            "The following columns in the evaluation set  don't have a corresponding argument in `BertForSequenceClassification.forward` and have been ignored: DESCRIPTION. If DESCRIPTION are not expected by `BertForSequenceClassification.forward`,  you can safely ignore this message.\n",
            "***** Running Evaluation *****\n",
            "  Num examples = 1000\n",
            "  Batch size = 8\n",
            "Saving model checkpoint to test_trainer/checkpoint-1500\n",
            "Configuration saved in test_trainer/checkpoint-1500/config.json\n",
            "Model weights saved in test_trainer/checkpoint-1500/pytorch_model.bin\n",
            "tokenizer config file saved in test_trainer/checkpoint-1500/tokenizer_config.json\n",
            "Special tokens file saved in test_trainer/checkpoint-1500/special_tokens_map.json\n",
            "The following columns in the evaluation set  don't have a corresponding argument in `BertForSequenceClassification.forward` and have been ignored: DESCRIPTION. If DESCRIPTION are not expected by `BertForSequenceClassification.forward`,  you can safely ignore this message.\n",
            "***** Running Evaluation *****\n",
            "  Num examples = 1000\n",
            "  Batch size = 8\n",
            "Saving model checkpoint to test_trainer/checkpoint-2000\n",
            "Configuration saved in test_trainer/checkpoint-2000/config.json\n",
            "Model weights saved in test_trainer/checkpoint-2000/pytorch_model.bin\n",
            "tokenizer config file saved in test_trainer/checkpoint-2000/tokenizer_config.json\n",
            "Special tokens file saved in test_trainer/checkpoint-2000/special_tokens_map.json\n",
            "Saving model checkpoint to test_trainer/checkpoint-2500\n",
            "Configuration saved in test_trainer/checkpoint-2500/config.json\n",
            "Model weights saved in test_trainer/checkpoint-2500/pytorch_model.bin\n",
            "tokenizer config file saved in test_trainer/checkpoint-2500/tokenizer_config.json\n",
            "Special tokens file saved in test_trainer/checkpoint-2500/special_tokens_map.json\n",
            "The following columns in the evaluation set  don't have a corresponding argument in `BertForSequenceClassification.forward` and have been ignored: DESCRIPTION. If DESCRIPTION are not expected by `BertForSequenceClassification.forward`,  you can safely ignore this message.\n",
            "***** Running Evaluation *****\n",
            "  Num examples = 1000\n",
            "  Batch size = 8\n",
            "Saving model checkpoint to test_trainer/checkpoint-3000\n",
            "Configuration saved in test_trainer/checkpoint-3000/config.json\n",
            "Model weights saved in test_trainer/checkpoint-3000/pytorch_model.bin\n",
            "tokenizer config file saved in test_trainer/checkpoint-3000/tokenizer_config.json\n",
            "Special tokens file saved in test_trainer/checkpoint-3000/special_tokens_map.json\n",
            "The following columns in the evaluation set  don't have a corresponding argument in `BertForSequenceClassification.forward` and have been ignored: DESCRIPTION. If DESCRIPTION are not expected by `BertForSequenceClassification.forward`,  you can safely ignore this message.\n",
            "***** Running Evaluation *****\n",
            "  Num examples = 1000\n",
            "  Batch size = 8\n",
            "\n",
            "\n",
            "Training completed. Do not forget to share your model on huggingface.co/models =)\n",
            "\n",
            "\n"
          ]
        },
        {
          "output_type": "stream",
          "name": "stdout",
          "text": [
            "This file took:  0:05:01.127691\n",
            "At a rate of 0:00:00.060226 per line\n"
          ]
        }
      ],
      "source": [
        "from datetime import datetime\n",
        "start = datetime.now()\n",
        "\n",
        "# Run the Trainer\n",
        "trainer = Trainer(\n",
        "    model=model,\n",
        "    args=training_args,\n",
        "    train_dataset=train_dataset,\n",
        "    eval_dataset=eval_dataset,\n",
        "    compute_metrics=compute_metrics,\n",
        "    data_collator=data_collator,\n",
        "    tokenizer=tokenizer,\n",
        ") \n",
        "trainer.train()\n",
        "\n",
        "stop = datetime.now()\n",
        "seconds = (stop-start)\n",
        "rate = seconds/num_examples\n",
        "print(\"This file took: \", seconds)\n",
        "print('At a rate of ' + str(rate) +' per line')"
      ]
    },
    {
      "cell_type": "code",
      "source": [
        "import torch\n",
        "torch.cuda.is_available()"
      ],
      "metadata": {
        "colab": {
          "base_uri": "https://localhost:8080/"
        },
        "id": "8PY5xnzX0StX",
        "outputId": "00263b4a-59a9-4e03-e429-b2490abb369b"
      },
      "execution_count": null,
      "outputs": [
        {
          "output_type": "execute_result",
          "data": {
            "text/plain": [
              "True"
            ]
          },
          "metadata": {},
          "execution_count": 1
        }
      ]
    },
    {
      "cell_type": "code",
      "source": [
        "predictions = trainer.predict(small_eval_dataset)"
      ],
      "metadata": {
        "id": "9poWXb4D02m3",
        "colab": {
          "base_uri": "https://localhost:8080/",
          "height": 165
        },
        "outputId": "e0b2a88d-dbd7-4dfa-b2f8-95f4884ce425"
      },
      "execution_count": null,
      "outputs": [
        {
          "output_type": "error",
          "ename": "NameError",
          "evalue": "ignored",
          "traceback": [
            "\u001b[0;31m---------------------------------------------------------------------------\u001b[0m",
            "\u001b[0;31mNameError\u001b[0m                                 Traceback (most recent call last)",
            "\u001b[0;32m<ipython-input-2-c4625082a5a3>\u001b[0m in \u001b[0;36m<module>\u001b[0;34m()\u001b[0m\n\u001b[0;32m----> 1\u001b[0;31m \u001b[0mpredictions\u001b[0m \u001b[0;34m=\u001b[0m \u001b[0mtrainer\u001b[0m\u001b[0;34m.\u001b[0m\u001b[0mpredict\u001b[0m\u001b[0;34m(\u001b[0m\u001b[0msmall_eval_dataset\u001b[0m\u001b[0;34m)\u001b[0m\u001b[0;34m\u001b[0m\u001b[0;34m\u001b[0m\u001b[0m\n\u001b[0m",
            "\u001b[0;31mNameError\u001b[0m: name 'trainer' is not defined"
          ]
        }
      ]
    },
    {
      "cell_type": "code",
      "source": [
        "\n",
        "metric.compute(predictions=predictions[1], references=small_eval_dataset['labels'])"
      ],
      "metadata": {
        "id": "PyWn3Vll0ZiI"
      },
      "execution_count": null,
      "outputs": []
    },
    {
      "cell_type": "code",
      "source": [
        ""
      ],
      "metadata": {
        "id": "LuichCq-HhYC"
      },
      "execution_count": null,
      "outputs": []
    },
    {
      "cell_type": "code",
      "source": [
        "print(model)"
      ],
      "metadata": {
        "id": "dkPfL4ofz3QU"
      },
      "execution_count": null,
      "outputs": []
    },
    {
      "cell_type": "markdown",
      "metadata": {
        "jp-MarkdownHeadingCollapsed": true,
        "tags": [],
        "id": "N2kczbhGwVLz"
      },
      "source": [
        "# Load Other Data"
      ]
    },
    {
      "cell_type": "code",
      "source": [
        "!wget -O text.zip --no-check-certificate \"https://drive.google.com/uc?export=download&id=1_B6loMS--piFuaffoAVDMYEgEPVgCupZ\"\n",
        "!unzip text.zip"
      ],
      "metadata": {
        "id": "F8on5UTPw9aO"
      },
      "execution_count": null,
      "outputs": []
    },
    {
      "cell_type": "markdown",
      "metadata": {
        "id": "ayS9MD34TRiu"
      },
      "source": [
        "Next we will make a list filled with a dictonary for each patient (patients_info). Each dictonary will contain keys for the patient name, each record csv, and info. Info contains the full text of all the record csvs for this patient.\n",
        "\n",
        "gt_patients_info is a list where each index corresponds to the same index in patients_info and contains the true insurance codes coressponding to each patinet.\n",
        "\n",
        "gt_dict, Lastly gt_dict is a dictonary containing a key for each patient found in \"ids\" and all the insurance codes for the associated key/patients \n",
        "\n"
      ]
    },
    {
      "cell_type": "code",
      "execution_count": null,
      "metadata": {
        "id": "xyKoFe9fp9yK"
      },
      "outputs": [],
      "source": [
        "patients_info = []\n",
        "gt_patients_info = []\n",
        "gt_dict = {}\n",
        "for patient in ids:\n",
        "    patient_dict = {}\n",
        "    patient_dict['name'] = patient\n",
        "    info_list = []\n",
        "    gt_list = []\n",
        "    for info_key in info_keys:\n",
        "        csv = csvs[info_key]\n",
        "        # print(csv.keys())\n",
        "        # print(info_key)\n",
        "        if 'PATIENTID' in csv.keys():\n",
        "            key = \"PATIENTID\"\n",
        "        else:\n",
        "            key = \"PATIENT\"\n",
        "        try:\n",
        "            data =np.array(csv.groupby(by = [key]).get_group(patient)['DESCRIPTION'])\n",
        "            gt = np.array(csv.groupby(by = [key]).get_group(patient)['CODE'])\n",
        "            patient_dict[info_key] = data\n",
        "            info_list  = np.concatenate((info_list, data))\n",
        "            gt_list = np.concatenate((gt_list, gt))\n",
        "        except:\n",
        "            \n",
        "            pass\n",
        "    patient_dict['info'] = info_list\n",
        "    patients_info.append(patient_dict)\n",
        "    gt_patients_info.append(gt_list) \n",
        "    gt_dict[patient] = gt_list"
      ]
    },
    {
      "cell_type": "code",
      "execution_count": null,
      "metadata": {
        "colab": {
          "base_uri": "https://localhost:8080/"
        },
        "id": "wa0ONC7EV_nu",
        "outputId": "8694d486-7552-4e65-a601-b56e4e683a8b"
      },
      "outputs": [
        {
          "data": {
            "text/plain": [
              "dict_keys(['name', 'medications', 'conditions', 'careplans', 'observations', 'procedures', 'immunizations', 'info'])"
            ]
          },
          "execution_count": 21,
          "metadata": {},
          "output_type": "execute_result"
        }
      ],
      "source": [
        "patients_info[0].keys()\n"
      ]
    },
    {
      "cell_type": "markdown",
      "metadata": {
        "tags": [],
        "id": "BgcRx7LkwVL0"
      },
      "source": [
        "## Make Text Files list of strings"
      ]
    },
    {
      "cell_type": "markdown",
      "metadata": {
        "id": "PIlVQTjAVrDy"
      },
      "source": [
        "Text_dict simply contains all of the patients record names as keys and the file text content as the value"
      ]
    },
    {
      "cell_type": "code",
      "execution_count": null,
      "metadata": {
        "id": "ZyL0zFHxIDaq"
      },
      "outputs": [],
      "source": [
        "texts_dict = {}\n",
        "texts = []\n",
        "text_loc = synthea+'/text/text/'\n",
        "text_names = os.listdir(text_loc)\n",
        "for i, name in enumerate(text_names):\n",
        "    text_names[i] = name[:-4]\n",
        "    file = open(text_loc+ name, encoding=\"utf8\")\n",
        "    text=file.readlines()\n",
        "    # with open(text_loc+ name) as f:\n",
        "    #     text = f.readlines()\n",
        "    texts_dict[name[:-4]] = text\n",
        "    texts.append(text)"
      ]
    }
  ],
  "metadata": {
    "colab": {
      "name": "Fine_Tune_ICD.ipynb",
      "provenance": [],
      "collapsed_sections": [],
      "toc_visible": true
    },
    "kernelspec": {
      "display_name": "Python 3 (ipykernel)",
      "language": "python",
      "name": "python3"
    },
    "language_info": {
      "codemirror_mode": {
        "name": "ipython",
        "version": 3
      },
      "file_extension": ".py",
      "mimetype": "text/x-python",
      "name": "python",
      "nbconvert_exporter": "python",
      "pygments_lexer": "ipython3",
      "version": "3.8.12"
    },
    "accelerator": "GPU",
    "widgets": {
      "application/vnd.jupyter.widget-state+json": {
        "94a440b3b30844969b2f4af1e9fe1bcf": {
          "model_module": "@jupyter-widgets/controls",
          "model_name": "HBoxModel",
          "model_module_version": "1.5.0",
          "state": {
            "_dom_classes": [],
            "_model_module": "@jupyter-widgets/controls",
            "_model_module_version": "1.5.0",
            "_model_name": "HBoxModel",
            "_view_count": null,
            "_view_module": "@jupyter-widgets/controls",
            "_view_module_version": "1.5.0",
            "_view_name": "HBoxView",
            "box_style": "",
            "children": [
              "IPY_MODEL_2e65754cee7d442d9a2a15c28ef914b1",
              "IPY_MODEL_20f0cadc28254ca491f208a08b897c32",
              "IPY_MODEL_ee91c659247c4cd58546186a4210ffa9"
            ],
            "layout": "IPY_MODEL_9615347701f540c0a724503a3a595f1b"
          }
        },
        "2e65754cee7d442d9a2a15c28ef914b1": {
          "model_module": "@jupyter-widgets/controls",
          "model_name": "HTMLModel",
          "model_module_version": "1.5.0",
          "state": {
            "_dom_classes": [],
            "_model_module": "@jupyter-widgets/controls",
            "_model_module_version": "1.5.0",
            "_model_name": "HTMLModel",
            "_view_count": null,
            "_view_module": "@jupyter-widgets/controls",
            "_view_module_version": "1.5.0",
            "_view_name": "HTMLView",
            "description": "",
            "description_tooltip": null,
            "layout": "IPY_MODEL_0e0d09dfcc644773956eff2edcd7560d",
            "placeholder": "​",
            "style": "IPY_MODEL_9a0ad651575749eabba6c9bcc754d03a",
            "value": "100%"
          }
        },
        "20f0cadc28254ca491f208a08b897c32": {
          "model_module": "@jupyter-widgets/controls",
          "model_name": "FloatProgressModel",
          "model_module_version": "1.5.0",
          "state": {
            "_dom_classes": [],
            "_model_module": "@jupyter-widgets/controls",
            "_model_module_version": "1.5.0",
            "_model_name": "FloatProgressModel",
            "_view_count": null,
            "_view_module": "@jupyter-widgets/controls",
            "_view_module_version": "1.5.0",
            "_view_name": "ProgressView",
            "bar_style": "success",
            "description": "",
            "description_tooltip": null,
            "layout": "IPY_MODEL_ab341e0648d344a5b061412e730ba1a3",
            "max": 70,
            "min": 0,
            "orientation": "horizontal",
            "style": "IPY_MODEL_3750a9d08fc94b6cb9a5155f85423ac7",
            "value": 70
          }
        },
        "ee91c659247c4cd58546186a4210ffa9": {
          "model_module": "@jupyter-widgets/controls",
          "model_name": "HTMLModel",
          "model_module_version": "1.5.0",
          "state": {
            "_dom_classes": [],
            "_model_module": "@jupyter-widgets/controls",
            "_model_module_version": "1.5.0",
            "_model_name": "HTMLModel",
            "_view_count": null,
            "_view_module": "@jupyter-widgets/controls",
            "_view_module_version": "1.5.0",
            "_view_name": "HTMLView",
            "description": "",
            "description_tooltip": null,
            "layout": "IPY_MODEL_e38cbe7c03934179ad83db3a1de61188",
            "placeholder": "​",
            "style": "IPY_MODEL_4678691f2e6b4524908ecc5311d37aee",
            "value": " 70/70 [00:03&lt;00:00, 19.61ba/s]"
          }
        },
        "9615347701f540c0a724503a3a595f1b": {
          "model_module": "@jupyter-widgets/base",
          "model_name": "LayoutModel",
          "model_module_version": "1.2.0",
          "state": {
            "_model_module": "@jupyter-widgets/base",
            "_model_module_version": "1.2.0",
            "_model_name": "LayoutModel",
            "_view_count": null,
            "_view_module": "@jupyter-widgets/base",
            "_view_module_version": "1.2.0",
            "_view_name": "LayoutView",
            "align_content": null,
            "align_items": null,
            "align_self": null,
            "border": null,
            "bottom": null,
            "display": null,
            "flex": null,
            "flex_flow": null,
            "grid_area": null,
            "grid_auto_columns": null,
            "grid_auto_flow": null,
            "grid_auto_rows": null,
            "grid_column": null,
            "grid_gap": null,
            "grid_row": null,
            "grid_template_areas": null,
            "grid_template_columns": null,
            "grid_template_rows": null,
            "height": null,
            "justify_content": null,
            "justify_items": null,
            "left": null,
            "margin": null,
            "max_height": null,
            "max_width": null,
            "min_height": null,
            "min_width": null,
            "object_fit": null,
            "object_position": null,
            "order": null,
            "overflow": null,
            "overflow_x": null,
            "overflow_y": null,
            "padding": null,
            "right": null,
            "top": null,
            "visibility": null,
            "width": null
          }
        },
        "0e0d09dfcc644773956eff2edcd7560d": {
          "model_module": "@jupyter-widgets/base",
          "model_name": "LayoutModel",
          "model_module_version": "1.2.0",
          "state": {
            "_model_module": "@jupyter-widgets/base",
            "_model_module_version": "1.2.0",
            "_model_name": "LayoutModel",
            "_view_count": null,
            "_view_module": "@jupyter-widgets/base",
            "_view_module_version": "1.2.0",
            "_view_name": "LayoutView",
            "align_content": null,
            "align_items": null,
            "align_self": null,
            "border": null,
            "bottom": null,
            "display": null,
            "flex": null,
            "flex_flow": null,
            "grid_area": null,
            "grid_auto_columns": null,
            "grid_auto_flow": null,
            "grid_auto_rows": null,
            "grid_column": null,
            "grid_gap": null,
            "grid_row": null,
            "grid_template_areas": null,
            "grid_template_columns": null,
            "grid_template_rows": null,
            "height": null,
            "justify_content": null,
            "justify_items": null,
            "left": null,
            "margin": null,
            "max_height": null,
            "max_width": null,
            "min_height": null,
            "min_width": null,
            "object_fit": null,
            "object_position": null,
            "order": null,
            "overflow": null,
            "overflow_x": null,
            "overflow_y": null,
            "padding": null,
            "right": null,
            "top": null,
            "visibility": null,
            "width": null
          }
        },
        "9a0ad651575749eabba6c9bcc754d03a": {
          "model_module": "@jupyter-widgets/controls",
          "model_name": "DescriptionStyleModel",
          "model_module_version": "1.5.0",
          "state": {
            "_model_module": "@jupyter-widgets/controls",
            "_model_module_version": "1.5.0",
            "_model_name": "DescriptionStyleModel",
            "_view_count": null,
            "_view_module": "@jupyter-widgets/base",
            "_view_module_version": "1.2.0",
            "_view_name": "StyleView",
            "description_width": ""
          }
        },
        "ab341e0648d344a5b061412e730ba1a3": {
          "model_module": "@jupyter-widgets/base",
          "model_name": "LayoutModel",
          "model_module_version": "1.2.0",
          "state": {
            "_model_module": "@jupyter-widgets/base",
            "_model_module_version": "1.2.0",
            "_model_name": "LayoutModel",
            "_view_count": null,
            "_view_module": "@jupyter-widgets/base",
            "_view_module_version": "1.2.0",
            "_view_name": "LayoutView",
            "align_content": null,
            "align_items": null,
            "align_self": null,
            "border": null,
            "bottom": null,
            "display": null,
            "flex": null,
            "flex_flow": null,
            "grid_area": null,
            "grid_auto_columns": null,
            "grid_auto_flow": null,
            "grid_auto_rows": null,
            "grid_column": null,
            "grid_gap": null,
            "grid_row": null,
            "grid_template_areas": null,
            "grid_template_columns": null,
            "grid_template_rows": null,
            "height": null,
            "justify_content": null,
            "justify_items": null,
            "left": null,
            "margin": null,
            "max_height": null,
            "max_width": null,
            "min_height": null,
            "min_width": null,
            "object_fit": null,
            "object_position": null,
            "order": null,
            "overflow": null,
            "overflow_x": null,
            "overflow_y": null,
            "padding": null,
            "right": null,
            "top": null,
            "visibility": null,
            "width": null
          }
        },
        "3750a9d08fc94b6cb9a5155f85423ac7": {
          "model_module": "@jupyter-widgets/controls",
          "model_name": "ProgressStyleModel",
          "model_module_version": "1.5.0",
          "state": {
            "_model_module": "@jupyter-widgets/controls",
            "_model_module_version": "1.5.0",
            "_model_name": "ProgressStyleModel",
            "_view_count": null,
            "_view_module": "@jupyter-widgets/base",
            "_view_module_version": "1.2.0",
            "_view_name": "StyleView",
            "bar_color": null,
            "description_width": ""
          }
        },
        "e38cbe7c03934179ad83db3a1de61188": {
          "model_module": "@jupyter-widgets/base",
          "model_name": "LayoutModel",
          "model_module_version": "1.2.0",
          "state": {
            "_model_module": "@jupyter-widgets/base",
            "_model_module_version": "1.2.0",
            "_model_name": "LayoutModel",
            "_view_count": null,
            "_view_module": "@jupyter-widgets/base",
            "_view_module_version": "1.2.0",
            "_view_name": "LayoutView",
            "align_content": null,
            "align_items": null,
            "align_self": null,
            "border": null,
            "bottom": null,
            "display": null,
            "flex": null,
            "flex_flow": null,
            "grid_area": null,
            "grid_auto_columns": null,
            "grid_auto_flow": null,
            "grid_auto_rows": null,
            "grid_column": null,
            "grid_gap": null,
            "grid_row": null,
            "grid_template_areas": null,
            "grid_template_columns": null,
            "grid_template_rows": null,
            "height": null,
            "justify_content": null,
            "justify_items": null,
            "left": null,
            "margin": null,
            "max_height": null,
            "max_width": null,
            "min_height": null,
            "min_width": null,
            "object_fit": null,
            "object_position": null,
            "order": null,
            "overflow": null,
            "overflow_x": null,
            "overflow_y": null,
            "padding": null,
            "right": null,
            "top": null,
            "visibility": null,
            "width": null
          }
        },
        "4678691f2e6b4524908ecc5311d37aee": {
          "model_module": "@jupyter-widgets/controls",
          "model_name": "DescriptionStyleModel",
          "model_module_version": "1.5.0",
          "state": {
            "_model_module": "@jupyter-widgets/controls",
            "_model_module_version": "1.5.0",
            "_model_name": "DescriptionStyleModel",
            "_view_count": null,
            "_view_module": "@jupyter-widgets/base",
            "_view_module_version": "1.2.0",
            "_view_name": "StyleView",
            "description_width": ""
          }
        },
        "06d0c2c496a54519bb0f55a28eb337dc": {
          "model_module": "@jupyter-widgets/controls",
          "model_name": "HBoxModel",
          "model_module_version": "1.5.0",
          "state": {
            "_dom_classes": [],
            "_model_module": "@jupyter-widgets/controls",
            "_model_module_version": "1.5.0",
            "_model_name": "HBoxModel",
            "_view_count": null,
            "_view_module": "@jupyter-widgets/controls",
            "_view_module_version": "1.5.0",
            "_view_name": "HBoxView",
            "box_style": "",
            "children": [
              "IPY_MODEL_12ec65304ce245f7b38eb1a2d83d3d8e",
              "IPY_MODEL_6defee1c3ed04a85b7e9f1ea2c582bc8",
              "IPY_MODEL_ab89f40aaa3448988b7943e95f3a0da3"
            ],
            "layout": "IPY_MODEL_c1ca70a196c94480958e62bb93ff0358"
          }
        },
        "12ec65304ce245f7b38eb1a2d83d3d8e": {
          "model_module": "@jupyter-widgets/controls",
          "model_name": "HTMLModel",
          "model_module_version": "1.5.0",
          "state": {
            "_dom_classes": [],
            "_model_module": "@jupyter-widgets/controls",
            "_model_module_version": "1.5.0",
            "_model_name": "HTMLModel",
            "_view_count": null,
            "_view_module": "@jupyter-widgets/controls",
            "_view_module_version": "1.5.0",
            "_view_name": "HTMLView",
            "description": "",
            "description_tooltip": null,
            "layout": "IPY_MODEL_22a8ddb15e254c61a3c14c05fcd0acb5",
            "placeholder": "​",
            "style": "IPY_MODEL_4c19c019eaf648699c2a12fe55cd59fc",
            "value": "100%"
          }
        },
        "6defee1c3ed04a85b7e9f1ea2c582bc8": {
          "model_module": "@jupyter-widgets/controls",
          "model_name": "FloatProgressModel",
          "model_module_version": "1.5.0",
          "state": {
            "_dom_classes": [],
            "_model_module": "@jupyter-widgets/controls",
            "_model_module_version": "1.5.0",
            "_model_name": "FloatProgressModel",
            "_view_count": null,
            "_view_module": "@jupyter-widgets/controls",
            "_view_module_version": "1.5.0",
            "_view_name": "ProgressView",
            "bar_style": "success",
            "description": "",
            "description_tooltip": null,
            "layout": "IPY_MODEL_71d2ff8c29b04b799035316d667ebae2",
            "max": 8,
            "min": 0,
            "orientation": "horizontal",
            "style": "IPY_MODEL_ac897b7683d54b40b2cbf028b2696dc8",
            "value": 8
          }
        },
        "ab89f40aaa3448988b7943e95f3a0da3": {
          "model_module": "@jupyter-widgets/controls",
          "model_name": "HTMLModel",
          "model_module_version": "1.5.0",
          "state": {
            "_dom_classes": [],
            "_model_module": "@jupyter-widgets/controls",
            "_model_module_version": "1.5.0",
            "_model_name": "HTMLModel",
            "_view_count": null,
            "_view_module": "@jupyter-widgets/controls",
            "_view_module_version": "1.5.0",
            "_view_name": "HTMLView",
            "description": "",
            "description_tooltip": null,
            "layout": "IPY_MODEL_4f79dc3eea9e43d7a1cc4b55cce05d74",
            "placeholder": "​",
            "style": "IPY_MODEL_214449d4f1474d3184d1f19f479bad34",
            "value": " 8/8 [00:00&lt;00:00, 23.93ba/s]"
          }
        },
        "c1ca70a196c94480958e62bb93ff0358": {
          "model_module": "@jupyter-widgets/base",
          "model_name": "LayoutModel",
          "model_module_version": "1.2.0",
          "state": {
            "_model_module": "@jupyter-widgets/base",
            "_model_module_version": "1.2.0",
            "_model_name": "LayoutModel",
            "_view_count": null,
            "_view_module": "@jupyter-widgets/base",
            "_view_module_version": "1.2.0",
            "_view_name": "LayoutView",
            "align_content": null,
            "align_items": null,
            "align_self": null,
            "border": null,
            "bottom": null,
            "display": null,
            "flex": null,
            "flex_flow": null,
            "grid_area": null,
            "grid_auto_columns": null,
            "grid_auto_flow": null,
            "grid_auto_rows": null,
            "grid_column": null,
            "grid_gap": null,
            "grid_row": null,
            "grid_template_areas": null,
            "grid_template_columns": null,
            "grid_template_rows": null,
            "height": null,
            "justify_content": null,
            "justify_items": null,
            "left": null,
            "margin": null,
            "max_height": null,
            "max_width": null,
            "min_height": null,
            "min_width": null,
            "object_fit": null,
            "object_position": null,
            "order": null,
            "overflow": null,
            "overflow_x": null,
            "overflow_y": null,
            "padding": null,
            "right": null,
            "top": null,
            "visibility": null,
            "width": null
          }
        },
        "22a8ddb15e254c61a3c14c05fcd0acb5": {
          "model_module": "@jupyter-widgets/base",
          "model_name": "LayoutModel",
          "model_module_version": "1.2.0",
          "state": {
            "_model_module": "@jupyter-widgets/base",
            "_model_module_version": "1.2.0",
            "_model_name": "LayoutModel",
            "_view_count": null,
            "_view_module": "@jupyter-widgets/base",
            "_view_module_version": "1.2.0",
            "_view_name": "LayoutView",
            "align_content": null,
            "align_items": null,
            "align_self": null,
            "border": null,
            "bottom": null,
            "display": null,
            "flex": null,
            "flex_flow": null,
            "grid_area": null,
            "grid_auto_columns": null,
            "grid_auto_flow": null,
            "grid_auto_rows": null,
            "grid_column": null,
            "grid_gap": null,
            "grid_row": null,
            "grid_template_areas": null,
            "grid_template_columns": null,
            "grid_template_rows": null,
            "height": null,
            "justify_content": null,
            "justify_items": null,
            "left": null,
            "margin": null,
            "max_height": null,
            "max_width": null,
            "min_height": null,
            "min_width": null,
            "object_fit": null,
            "object_position": null,
            "order": null,
            "overflow": null,
            "overflow_x": null,
            "overflow_y": null,
            "padding": null,
            "right": null,
            "top": null,
            "visibility": null,
            "width": null
          }
        },
        "4c19c019eaf648699c2a12fe55cd59fc": {
          "model_module": "@jupyter-widgets/controls",
          "model_name": "DescriptionStyleModel",
          "model_module_version": "1.5.0",
          "state": {
            "_model_module": "@jupyter-widgets/controls",
            "_model_module_version": "1.5.0",
            "_model_name": "DescriptionStyleModel",
            "_view_count": null,
            "_view_module": "@jupyter-widgets/base",
            "_view_module_version": "1.2.0",
            "_view_name": "StyleView",
            "description_width": ""
          }
        },
        "71d2ff8c29b04b799035316d667ebae2": {
          "model_module": "@jupyter-widgets/base",
          "model_name": "LayoutModel",
          "model_module_version": "1.2.0",
          "state": {
            "_model_module": "@jupyter-widgets/base",
            "_model_module_version": "1.2.0",
            "_model_name": "LayoutModel",
            "_view_count": null,
            "_view_module": "@jupyter-widgets/base",
            "_view_module_version": "1.2.0",
            "_view_name": "LayoutView",
            "align_content": null,
            "align_items": null,
            "align_self": null,
            "border": null,
            "bottom": null,
            "display": null,
            "flex": null,
            "flex_flow": null,
            "grid_area": null,
            "grid_auto_columns": null,
            "grid_auto_flow": null,
            "grid_auto_rows": null,
            "grid_column": null,
            "grid_gap": null,
            "grid_row": null,
            "grid_template_areas": null,
            "grid_template_columns": null,
            "grid_template_rows": null,
            "height": null,
            "justify_content": null,
            "justify_items": null,
            "left": null,
            "margin": null,
            "max_height": null,
            "max_width": null,
            "min_height": null,
            "min_width": null,
            "object_fit": null,
            "object_position": null,
            "order": null,
            "overflow": null,
            "overflow_x": null,
            "overflow_y": null,
            "padding": null,
            "right": null,
            "top": null,
            "visibility": null,
            "width": null
          }
        },
        "ac897b7683d54b40b2cbf028b2696dc8": {
          "model_module": "@jupyter-widgets/controls",
          "model_name": "ProgressStyleModel",
          "model_module_version": "1.5.0",
          "state": {
            "_model_module": "@jupyter-widgets/controls",
            "_model_module_version": "1.5.0",
            "_model_name": "ProgressStyleModel",
            "_view_count": null,
            "_view_module": "@jupyter-widgets/base",
            "_view_module_version": "1.2.0",
            "_view_name": "StyleView",
            "bar_color": null,
            "description_width": ""
          }
        },
        "4f79dc3eea9e43d7a1cc4b55cce05d74": {
          "model_module": "@jupyter-widgets/base",
          "model_name": "LayoutModel",
          "model_module_version": "1.2.0",
          "state": {
            "_model_module": "@jupyter-widgets/base",
            "_model_module_version": "1.2.0",
            "_model_name": "LayoutModel",
            "_view_count": null,
            "_view_module": "@jupyter-widgets/base",
            "_view_module_version": "1.2.0",
            "_view_name": "LayoutView",
            "align_content": null,
            "align_items": null,
            "align_self": null,
            "border": null,
            "bottom": null,
            "display": null,
            "flex": null,
            "flex_flow": null,
            "grid_area": null,
            "grid_auto_columns": null,
            "grid_auto_flow": null,
            "grid_auto_rows": null,
            "grid_column": null,
            "grid_gap": null,
            "grid_row": null,
            "grid_template_areas": null,
            "grid_template_columns": null,
            "grid_template_rows": null,
            "height": null,
            "justify_content": null,
            "justify_items": null,
            "left": null,
            "margin": null,
            "max_height": null,
            "max_width": null,
            "min_height": null,
            "min_width": null,
            "object_fit": null,
            "object_position": null,
            "order": null,
            "overflow": null,
            "overflow_x": null,
            "overflow_y": null,
            "padding": null,
            "right": null,
            "top": null,
            "visibility": null,
            "width": null
          }
        },
        "214449d4f1474d3184d1f19f479bad34": {
          "model_module": "@jupyter-widgets/controls",
          "model_name": "DescriptionStyleModel",
          "model_module_version": "1.5.0",
          "state": {
            "_model_module": "@jupyter-widgets/controls",
            "_model_module_version": "1.5.0",
            "_model_name": "DescriptionStyleModel",
            "_view_count": null,
            "_view_module": "@jupyter-widgets/base",
            "_view_module_version": "1.2.0",
            "_view_name": "StyleView",
            "description_width": ""
          }
        },
        "acaa033ec9834976b0db445137fd2afe": {
          "model_module": "@jupyter-widgets/controls",
          "model_name": "HBoxModel",
          "model_module_version": "1.5.0",
          "state": {
            "_dom_classes": [],
            "_model_module": "@jupyter-widgets/controls",
            "_model_module_version": "1.5.0",
            "_model_name": "HBoxModel",
            "_view_count": null,
            "_view_module": "@jupyter-widgets/controls",
            "_view_module_version": "1.5.0",
            "_view_name": "HBoxView",
            "box_style": "",
            "children": [
              "IPY_MODEL_8a949eb5db5e44cfacc6071f57542d17",
              "IPY_MODEL_6fc1c8b38d5e4b3f8d69cdc0e6c0ef23",
              "IPY_MODEL_2aaee769de224a3a8df5ebdc781846e8"
            ],
            "layout": "IPY_MODEL_27de85b13a654bc6b8ebe9dd62580213"
          }
        },
        "8a949eb5db5e44cfacc6071f57542d17": {
          "model_module": "@jupyter-widgets/controls",
          "model_name": "HTMLModel",
          "model_module_version": "1.5.0",
          "state": {
            "_dom_classes": [],
            "_model_module": "@jupyter-widgets/controls",
            "_model_module_version": "1.5.0",
            "_model_name": "HTMLModel",
            "_view_count": null,
            "_view_module": "@jupyter-widgets/controls",
            "_view_module_version": "1.5.0",
            "_view_name": "HTMLView",
            "description": "",
            "description_tooltip": null,
            "layout": "IPY_MODEL_0f38037097d14caf999b16fbaa654b23",
            "placeholder": "​",
            "style": "IPY_MODEL_2765dff953f24e17b99e72f9f77632b7",
            "value": "Downloading builder script: "
          }
        },
        "6fc1c8b38d5e4b3f8d69cdc0e6c0ef23": {
          "model_module": "@jupyter-widgets/controls",
          "model_name": "FloatProgressModel",
          "model_module_version": "1.5.0",
          "state": {
            "_dom_classes": [],
            "_model_module": "@jupyter-widgets/controls",
            "_model_module_version": "1.5.0",
            "_model_name": "FloatProgressModel",
            "_view_count": null,
            "_view_module": "@jupyter-widgets/controls",
            "_view_module_version": "1.5.0",
            "_view_name": "ProgressView",
            "bar_style": "success",
            "description": "",
            "description_tooltip": null,
            "layout": "IPY_MODEL_089e44b39af94cf48747b88d44ab75ef",
            "max": 1411,
            "min": 0,
            "orientation": "horizontal",
            "style": "IPY_MODEL_af35e7b7f22e4c369f400375696c5e57",
            "value": 1411
          }
        },
        "2aaee769de224a3a8df5ebdc781846e8": {
          "model_module": "@jupyter-widgets/controls",
          "model_name": "HTMLModel",
          "model_module_version": "1.5.0",
          "state": {
            "_dom_classes": [],
            "_model_module": "@jupyter-widgets/controls",
            "_model_module_version": "1.5.0",
            "_model_name": "HTMLModel",
            "_view_count": null,
            "_view_module": "@jupyter-widgets/controls",
            "_view_module_version": "1.5.0",
            "_view_name": "HTMLView",
            "description": "",
            "description_tooltip": null,
            "layout": "IPY_MODEL_9e316df9dc4e4e4085c338e12c3eecd9",
            "placeholder": "​",
            "style": "IPY_MODEL_9f26dc66cb7a43aca511d9b9e0f1d422",
            "value": " 3.19k/? [00:00&lt;00:00, 103kB/s]"
          }
        },
        "27de85b13a654bc6b8ebe9dd62580213": {
          "model_module": "@jupyter-widgets/base",
          "model_name": "LayoutModel",
          "model_module_version": "1.2.0",
          "state": {
            "_model_module": "@jupyter-widgets/base",
            "_model_module_version": "1.2.0",
            "_model_name": "LayoutModel",
            "_view_count": null,
            "_view_module": "@jupyter-widgets/base",
            "_view_module_version": "1.2.0",
            "_view_name": "LayoutView",
            "align_content": null,
            "align_items": null,
            "align_self": null,
            "border": null,
            "bottom": null,
            "display": null,
            "flex": null,
            "flex_flow": null,
            "grid_area": null,
            "grid_auto_columns": null,
            "grid_auto_flow": null,
            "grid_auto_rows": null,
            "grid_column": null,
            "grid_gap": null,
            "grid_row": null,
            "grid_template_areas": null,
            "grid_template_columns": null,
            "grid_template_rows": null,
            "height": null,
            "justify_content": null,
            "justify_items": null,
            "left": null,
            "margin": null,
            "max_height": null,
            "max_width": null,
            "min_height": null,
            "min_width": null,
            "object_fit": null,
            "object_position": null,
            "order": null,
            "overflow": null,
            "overflow_x": null,
            "overflow_y": null,
            "padding": null,
            "right": null,
            "top": null,
            "visibility": null,
            "width": null
          }
        },
        "0f38037097d14caf999b16fbaa654b23": {
          "model_module": "@jupyter-widgets/base",
          "model_name": "LayoutModel",
          "model_module_version": "1.2.0",
          "state": {
            "_model_module": "@jupyter-widgets/base",
            "_model_module_version": "1.2.0",
            "_model_name": "LayoutModel",
            "_view_count": null,
            "_view_module": "@jupyter-widgets/base",
            "_view_module_version": "1.2.0",
            "_view_name": "LayoutView",
            "align_content": null,
            "align_items": null,
            "align_self": null,
            "border": null,
            "bottom": null,
            "display": null,
            "flex": null,
            "flex_flow": null,
            "grid_area": null,
            "grid_auto_columns": null,
            "grid_auto_flow": null,
            "grid_auto_rows": null,
            "grid_column": null,
            "grid_gap": null,
            "grid_row": null,
            "grid_template_areas": null,
            "grid_template_columns": null,
            "grid_template_rows": null,
            "height": null,
            "justify_content": null,
            "justify_items": null,
            "left": null,
            "margin": null,
            "max_height": null,
            "max_width": null,
            "min_height": null,
            "min_width": null,
            "object_fit": null,
            "object_position": null,
            "order": null,
            "overflow": null,
            "overflow_x": null,
            "overflow_y": null,
            "padding": null,
            "right": null,
            "top": null,
            "visibility": null,
            "width": null
          }
        },
        "2765dff953f24e17b99e72f9f77632b7": {
          "model_module": "@jupyter-widgets/controls",
          "model_name": "DescriptionStyleModel",
          "model_module_version": "1.5.0",
          "state": {
            "_model_module": "@jupyter-widgets/controls",
            "_model_module_version": "1.5.0",
            "_model_name": "DescriptionStyleModel",
            "_view_count": null,
            "_view_module": "@jupyter-widgets/base",
            "_view_module_version": "1.2.0",
            "_view_name": "StyleView",
            "description_width": ""
          }
        },
        "089e44b39af94cf48747b88d44ab75ef": {
          "model_module": "@jupyter-widgets/base",
          "model_name": "LayoutModel",
          "model_module_version": "1.2.0",
          "state": {
            "_model_module": "@jupyter-widgets/base",
            "_model_module_version": "1.2.0",
            "_model_name": "LayoutModel",
            "_view_count": null,
            "_view_module": "@jupyter-widgets/base",
            "_view_module_version": "1.2.0",
            "_view_name": "LayoutView",
            "align_content": null,
            "align_items": null,
            "align_self": null,
            "border": null,
            "bottom": null,
            "display": null,
            "flex": null,
            "flex_flow": null,
            "grid_area": null,
            "grid_auto_columns": null,
            "grid_auto_flow": null,
            "grid_auto_rows": null,
            "grid_column": null,
            "grid_gap": null,
            "grid_row": null,
            "grid_template_areas": null,
            "grid_template_columns": null,
            "grid_template_rows": null,
            "height": null,
            "justify_content": null,
            "justify_items": null,
            "left": null,
            "margin": null,
            "max_height": null,
            "max_width": null,
            "min_height": null,
            "min_width": null,
            "object_fit": null,
            "object_position": null,
            "order": null,
            "overflow": null,
            "overflow_x": null,
            "overflow_y": null,
            "padding": null,
            "right": null,
            "top": null,
            "visibility": null,
            "width": null
          }
        },
        "af35e7b7f22e4c369f400375696c5e57": {
          "model_module": "@jupyter-widgets/controls",
          "model_name": "ProgressStyleModel",
          "model_module_version": "1.5.0",
          "state": {
            "_model_module": "@jupyter-widgets/controls",
            "_model_module_version": "1.5.0",
            "_model_name": "ProgressStyleModel",
            "_view_count": null,
            "_view_module": "@jupyter-widgets/base",
            "_view_module_version": "1.2.0",
            "_view_name": "StyleView",
            "bar_color": null,
            "description_width": ""
          }
        },
        "9e316df9dc4e4e4085c338e12c3eecd9": {
          "model_module": "@jupyter-widgets/base",
          "model_name": "LayoutModel",
          "model_module_version": "1.2.0",
          "state": {
            "_model_module": "@jupyter-widgets/base",
            "_model_module_version": "1.2.0",
            "_model_name": "LayoutModel",
            "_view_count": null,
            "_view_module": "@jupyter-widgets/base",
            "_view_module_version": "1.2.0",
            "_view_name": "LayoutView",
            "align_content": null,
            "align_items": null,
            "align_self": null,
            "border": null,
            "bottom": null,
            "display": null,
            "flex": null,
            "flex_flow": null,
            "grid_area": null,
            "grid_auto_columns": null,
            "grid_auto_flow": null,
            "grid_auto_rows": null,
            "grid_column": null,
            "grid_gap": null,
            "grid_row": null,
            "grid_template_areas": null,
            "grid_template_columns": null,
            "grid_template_rows": null,
            "height": null,
            "justify_content": null,
            "justify_items": null,
            "left": null,
            "margin": null,
            "max_height": null,
            "max_width": null,
            "min_height": null,
            "min_width": null,
            "object_fit": null,
            "object_position": null,
            "order": null,
            "overflow": null,
            "overflow_x": null,
            "overflow_y": null,
            "padding": null,
            "right": null,
            "top": null,
            "visibility": null,
            "width": null
          }
        },
        "9f26dc66cb7a43aca511d9b9e0f1d422": {
          "model_module": "@jupyter-widgets/controls",
          "model_name": "DescriptionStyleModel",
          "model_module_version": "1.5.0",
          "state": {
            "_model_module": "@jupyter-widgets/controls",
            "_model_module_version": "1.5.0",
            "_model_name": "DescriptionStyleModel",
            "_view_count": null,
            "_view_module": "@jupyter-widgets/base",
            "_view_module_version": "1.2.0",
            "_view_name": "StyleView",
            "description_width": ""
          }
        }
      }
    }
  },
  "nbformat": 4,
  "nbformat_minor": 0
}