{
 "cells": [
  {
   "cell_type": "markdown",
   "metadata": {
    "id": "8Sk0woeMMRz6"
   },
   "source": [
    "# Install and import packages \n",
    "\n"
   ]
  },
  {
   "cell_type": "code",
   "execution_count": 4,
   "metadata": {
    "executionInfo": {
     "elapsed": 5,
     "status": "ok",
     "timestamp": 1649119370422,
     "user": {
      "displayName": "Jeremiah Dibble",
      "userId": "14025311526177951539"
     },
     "user_tz": 420
    },
    "id": "KKGiziVa-Ou5"
   },
   "outputs": [],
   "source": [
    "import os\n",
    "import pandas as pd\n",
    "import numpy as np"
   ]
  },
  {
   "cell_type": "code",
   "execution_count": 33,
   "metadata": {
    "colab": {
     "base_uri": "https://localhost:8080/"
    },
    "executionInfo": {
     "elapsed": 26275,
     "status": "ok",
     "timestamp": 1649119396693,
     "user": {
      "displayName": "Jeremiah Dibble",
      "userId": "14025311526177951539"
     },
     "user_tz": 420
    },
    "id": "7yDbel7fw8kD",
    "outputId": "9f31c814-927d-420c-f325-f968f4d6510d"
   },
   "outputs": [
    {
     "name": "stdout",
     "output_type": "stream",
     "text": [
      "Requirement already satisfied: sentence_transformers in /usr/local/lib/python3.7/dist-packages (2.2.0)\n",
      "Requirement already satisfied: huggingface-hub in /usr/local/lib/python3.7/dist-packages (from sentence_transformers) (0.4.0)\n",
      "Requirement already satisfied: numpy in /usr/local/lib/python3.7/dist-packages (from sentence_transformers) (1.21.5)\n",
      "Requirement already satisfied: tqdm in /usr/local/lib/python3.7/dist-packages (from sentence_transformers) (4.63.0)\n",
      "Requirement already satisfied: sentencepiece in /usr/local/lib/python3.7/dist-packages (from sentence_transformers) (0.1.96)\n",
      "Requirement already satisfied: scipy in /usr/local/lib/python3.7/dist-packages (from sentence_transformers) (1.4.1)\n",
      "Requirement already satisfied: torchvision in /usr/local/lib/python3.7/dist-packages (from sentence_transformers) (0.11.1+cu111)\n",
      "Requirement already satisfied: torch>=1.6.0 in /usr/local/lib/python3.7/dist-packages (from sentence_transformers) (1.10.0+cu111)\n",
      "Requirement already satisfied: transformers<5.0.0,>=4.6.0 in /usr/local/lib/python3.7/dist-packages (from sentence_transformers) (4.17.0)\n",
      "Requirement already satisfied: scikit-learn in /usr/local/lib/python3.7/dist-packages (from sentence_transformers) (1.0.2)\n",
      "Requirement already satisfied: nltk in /usr/local/lib/python3.7/dist-packages (from sentence_transformers) (3.2.5)\n",
      "Requirement already satisfied: typing-extensions in /usr/local/lib/python3.7/dist-packages (from torch>=1.6.0->sentence_transformers) (3.10.0.2)\n",
      "Requirement already satisfied: sacremoses in /usr/local/lib/python3.7/dist-packages (from transformers<5.0.0,>=4.6.0->sentence_transformers) (0.0.49)\n",
      "Requirement already satisfied: pyyaml>=5.1 in /usr/local/lib/python3.7/dist-packages (from transformers<5.0.0,>=4.6.0->sentence_transformers) (6.0)\n",
      "Requirement already satisfied: filelock in /usr/local/lib/python3.7/dist-packages (from transformers<5.0.0,>=4.6.0->sentence_transformers) (3.6.0)\n",
      "Requirement already satisfied: requests in /usr/local/lib/python3.7/dist-packages (from transformers<5.0.0,>=4.6.0->sentence_transformers) (2.23.0)\n",
      "Requirement already satisfied: tokenizers!=0.11.3,>=0.11.1 in /usr/local/lib/python3.7/dist-packages (from transformers<5.0.0,>=4.6.0->sentence_transformers) (0.11.6)\n",
      "Requirement already satisfied: regex!=2019.12.17 in /usr/local/lib/python3.7/dist-packages (from transformers<5.0.0,>=4.6.0->sentence_transformers) (2019.12.20)\n",
      "Requirement already satisfied: importlib-metadata in /usr/local/lib/python3.7/dist-packages (from transformers<5.0.0,>=4.6.0->sentence_transformers) (4.11.3)\n",
      "Requirement already satisfied: packaging>=20.0 in /usr/local/lib/python3.7/dist-packages (from transformers<5.0.0,>=4.6.0->sentence_transformers) (21.3)\n",
      "Requirement already satisfied: pyparsing!=3.0.5,>=2.0.2 in /usr/local/lib/python3.7/dist-packages (from packaging>=20.0->transformers<5.0.0,>=4.6.0->sentence_transformers) (3.0.7)\n",
      "Requirement already satisfied: zipp>=0.5 in /usr/local/lib/python3.7/dist-packages (from importlib-metadata->transformers<5.0.0,>=4.6.0->sentence_transformers) (3.7.0)\n",
      "Requirement already satisfied: six in /usr/local/lib/python3.7/dist-packages (from nltk->sentence_transformers) (1.15.0)\n",
      "Requirement already satisfied: idna<3,>=2.5 in /usr/local/lib/python3.7/dist-packages (from requests->transformers<5.0.0,>=4.6.0->sentence_transformers) (2.10)\n",
      "Requirement already satisfied: chardet<4,>=3.0.2 in /usr/local/lib/python3.7/dist-packages (from requests->transformers<5.0.0,>=4.6.0->sentence_transformers) (3.0.4)\n",
      "Requirement already satisfied: urllib3!=1.25.0,!=1.25.1,<1.26,>=1.21.1 in /usr/local/lib/python3.7/dist-packages (from requests->transformers<5.0.0,>=4.6.0->sentence_transformers) (1.24.3)\n",
      "Requirement already satisfied: certifi>=2017.4.17 in /usr/local/lib/python3.7/dist-packages (from requests->transformers<5.0.0,>=4.6.0->sentence_transformers) (2021.10.8)\n",
      "Requirement already satisfied: joblib in /usr/local/lib/python3.7/dist-packages (from sacremoses->transformers<5.0.0,>=4.6.0->sentence_transformers) (1.1.0)\n",
      "Requirement already satisfied: click in /usr/local/lib/python3.7/dist-packages (from sacremoses->transformers<5.0.0,>=4.6.0->sentence_transformers) (7.1.2)\n",
      "Requirement already satisfied: threadpoolctl>=2.0.0 in /usr/local/lib/python3.7/dist-packages (from scikit-learn->sentence_transformers) (3.1.0)\n",
      "Requirement already satisfied: pillow!=8.3.0,>=5.3.0 in /usr/local/lib/python3.7/dist-packages (from torchvision->sentence_transformers) (7.1.2)\n",
      "Requirement already satisfied: scikit-learn in /usr/local/lib/python3.7/dist-packages (1.0.2)\n",
      "Requirement already satisfied: scipy>=1.1.0 in /usr/local/lib/python3.7/dist-packages (from scikit-learn) (1.4.1)\n",
      "Requirement already satisfied: numpy>=1.14.6 in /usr/local/lib/python3.7/dist-packages (from scikit-learn) (1.21.5)\n",
      "Requirement already satisfied: threadpoolctl>=2.0.0 in /usr/local/lib/python3.7/dist-packages (from scikit-learn) (3.1.0)\n",
      "Requirement already satisfied: joblib>=0.11 in /usr/local/lib/python3.7/dist-packages (from scikit-learn) (1.1.0)\n",
      "Requirement already satisfied: unzip in /usr/local/lib/python3.7/dist-packages (1.0.0)\n"
     ]
    }
   ],
   "source": [
    "!pip install sentence_transformers\n",
    "!pip install scikit-learn\n",
    "!pip install unzip"
   ]
  },
  {
   "cell_type": "code",
   "execution_count": 5,
   "metadata": {
    "executionInfo": {
     "elapsed": 8,
     "status": "ok",
     "timestamp": 1649119396693,
     "user": {
      "displayName": "Jeremiah Dibble",
      "userId": "14025311526177951539"
     },
     "user_tz": 420
    },
    "id": "UjFUAH74p6jV"
   },
   "outputs": [],
   "source": [
    "from sentence_transformers import SentenceTransformer\n",
    "from collections import Counter\n",
    "\n"
   ]
  },
  {
   "cell_type": "code",
   "execution_count": 35,
   "metadata": {
    "colab": {
     "base_uri": "https://localhost:8080/"
    },
    "executionInfo": {
     "elapsed": 36317,
     "status": "ok",
     "timestamp": 1649119433003,
     "user": {
      "displayName": "Jeremiah Dibble",
      "userId": "14025311526177951539"
     },
     "user_tz": 420
    },
    "id": "W2-cQAAsYVrQ",
    "outputId": "793854a1-4f00-4306-e20c-204c113065b5"
   },
   "outputs": [
    {
     "name": "stdout",
     "output_type": "stream",
     "text": [
      "Archive:  csv.zip\n",
      "replace 2022_04_04T07_13_58Z/claims.csv? [y]es, [n]o, [A]ll, [N]one, [r]ename: N\n",
      "Archive:  text.zip\n",
      "replace text/Sheryl275_Gerlach374_7892936b-d8b1-f3a4-7c08-377ac61de459.txt? [y]es, [n]o, [A]ll, [N]one, [r]ename: N\n"
     ]
    }
   ],
   "source": [
    "#Upload csv.zip and text.zip from the drop box folder CogAI/synthea_colab\n",
    "!unzip csv.zip\n",
    "!unzip text.zip"
   ]
  },
  {
   "cell_type": "markdown",
   "metadata": {
    "id": "MA_IEdQeOHCR"
   },
   "source": [
    "# Load the model and encode any text"
   ]
  },
  {
   "cell_type": "code",
   "execution_count": 6,
   "metadata": {
    "colab": {
     "base_uri": "https://localhost:8080/"
    },
    "executionInfo": {
     "elapsed": 5468,
     "status": "ok",
     "timestamp": 1649119454524,
     "user": {
      "displayName": "Jeremiah Dibble",
      "userId": "14025311526177951539"
     },
     "user_tz": 420
    },
    "id": "Inpz3EMpp9GV",
    "outputId": "1b2a962a-2f62-450a-ad55-b24092767dbd"
   },
   "outputs": [
    {
     "name": "stderr",
     "output_type": "stream",
     "text": [
      "WARNING:root:No sentence-transformers model found with name C:\\Users\\Jerem/.cache\\torch\\sentence_transformers\\emilyalsentzer_Bio_ClinicalBERT. Creating a new one with MEAN pooling.\n",
      "Some weights of the model checkpoint at C:\\Users\\Jerem/.cache\\torch\\sentence_transformers\\emilyalsentzer_Bio_ClinicalBERT were not used when initializing BertModel: ['cls.predictions.transform.LayerNorm.weight', 'cls.predictions.transform.dense.bias', 'cls.predictions.transform.LayerNorm.bias', 'cls.predictions.bias', 'cls.seq_relationship.bias', 'cls.seq_relationship.weight', 'cls.predictions.decoder.weight', 'cls.predictions.transform.dense.weight']\n",
      "- This IS expected if you are initializing BertModel from the checkpoint of a model trained on another task or with another architecture (e.g. initializing a BertForSequenceClassification model from a BertForPreTraining model).\n",
      "- This IS NOT expected if you are initializing BertModel from the checkpoint of a model that you expect to be exactly identical (initializing a BertForSequenceClassification model from a BertForSequenceClassification model).\n"
     ]
    }
   ],
   "source": [
    "bioBERT = 'emilyalsentzer/Bio_ClinicalBERT'\n",
    "model = SentenceTransformer(bioBERT)\n",
    "example_embeddings = model.encode(\"we can embed anything\")"
   ]
  },
  {
   "cell_type": "code",
   "execution_count": 4,
   "metadata": {
    "id": "gZHrl8Xs9nbl"
   },
   "outputs": [
    {
     "ename": "NameError",
     "evalue": "name 'patients_info' is not defined",
     "output_type": "error",
     "traceback": [
      "\u001b[1;31m---------------------------------------------------------------------------\u001b[0m",
      "\u001b[1;31mNameError\u001b[0m                                 Traceback (most recent call last)",
      "Input \u001b[1;32mIn [4]\u001b[0m, in \u001b[0;36m<cell line: 3>\u001b[1;34m()\u001b[0m\n\u001b[0;32m      1\u001b[0m \u001b[38;5;66;03m# If you run the code to process the .zips this will encode a single patients record\u001b[39;00m\n\u001b[0;32m      2\u001b[0m \u001b[38;5;66;03m# patient_text_embed = model.encode(texts[0])\u001b[39;00m\n\u001b[1;32m----> 3\u001b[0m patient_procedures_embed \u001b[38;5;241m=\u001b[39m model\u001b[38;5;241m.\u001b[39mencode(\u001b[43mpatients_info\u001b[49m[\u001b[38;5;241m0\u001b[39m][\u001b[38;5;124m'\u001b[39m\u001b[38;5;124mprocedures\u001b[39m\u001b[38;5;124m'\u001b[39m])\n",
      "\u001b[1;31mNameError\u001b[0m: name 'patients_info' is not defined"
     ]
    }
   ],
   "source": [
    "# If you run the code to process the .zips this will encode a single patients record\n",
    "# patient_text_embed = model.encode(texts[0])\n",
    "patient_procedures_embed = model.encode(patients_info[0]['procedures'])"
   ]
  },
  {
   "cell_type": "code",
   "execution_count": null,
   "metadata": {
    "colab": {
     "base_uri": "https://localhost:8080/"
    },
    "executionInfo": {
     "elapsed": 168,
     "status": "ok",
     "timestamp": 1649113062015,
     "user": {
      "displayName": "Jeremiah Dibble",
      "userId": "14025311526177951539"
     },
     "user_tz": 420
    },
    "id": "jkFcKNiDzDWX",
    "outputId": "808e7113-a8b4-445a-9321-8d61fd2b0534"
   },
   "outputs": [
    {
     "data": {
      "text/plain": [
       "(54,)"
      ]
     },
     "execution_count": 27,
     "metadata": {},
     "output_type": "execute_result"
    }
   ],
   "source": [
    "patients_info[0]['procedures'].shape"
   ]
  },
  {
   "cell_type": "code",
   "execution_count": null,
   "metadata": {
    "colab": {
     "base_uri": "https://localhost:8080/"
    },
    "executionInfo": {
     "elapsed": 149,
     "status": "ok",
     "timestamp": 1649113016536,
     "user": {
      "displayName": "Jeremiah Dibble",
      "userId": "14025311526177951539"
     },
     "user_tz": 420
    },
    "id": "Q7rJW1osyzjf",
    "outputId": "e78672d5-7bbe-4d33-91bd-1fcbabeeb67a"
   },
   "outputs": [
    {
     "data": {
      "text/plain": [
       "(54, 768)"
      ]
     },
     "execution_count": 26,
     "metadata": {},
     "output_type": "execute_result"
    }
   ],
   "source": [
    "patient_procedures_embed.shape"
   ]
  },
  {
   "cell_type": "code",
   "execution_count": null,
   "metadata": {
    "colab": {
     "base_uri": "https://localhost:8080/"
    },
    "executionInfo": {
     "elapsed": 81060,
     "status": "ok",
     "timestamp": 1649113166840,
     "user": {
      "displayName": "Jeremiah Dibble",
      "userId": "14025311526177951539"
     },
     "user_tz": 420
    },
    "id": "tGC8DPeKzJY0",
    "outputId": "12e68836-84ea-4285-9f8a-17461c931bf4"
   },
   "outputs": [
    {
     "data": {
      "text/plain": [
       "(682, 768)"
      ]
     },
     "execution_count": 28,
     "metadata": {},
     "output_type": "execute_result"
    }
   ],
   "source": [
    "patient_text_embed = model.encode(texts[0])\n",
    "patient_text_embed.shape"
   ]
  },
  {
   "cell_type": "code",
   "execution_count": null,
   "metadata": {
    "colab": {
     "base_uri": "https://localhost:8080/"
    },
    "executionInfo": {
     "elapsed": 155,
     "status": "ok",
     "timestamp": 1649114585714,
     "user": {
      "displayName": "Jeremiah Dibble",
      "userId": "14025311526177951539"
     },
     "user_tz": 420
    },
    "id": "a_MvMFva4xPR",
    "outputId": "545ec17f-8f63-4753-ce89-7b697f39f4b7"
   },
   "outputs": [
    {
     "data": {
      "text/plain": [
       "682"
      ]
     },
     "execution_count": 31,
     "metadata": {},
     "output_type": "execute_result"
    }
   ],
   "source": [
    "len(texts[0])"
   ]
  },
  {
   "cell_type": "code",
   "execution_count": null,
   "metadata": {
    "id": "9zMtYU2MzY4B"
   },
   "outputs": [],
   "source": [
    "patient_info_embed = model.encode(patients_info[0]['info'])\n",
    "patient_text_embed.shape"
   ]
  },
  {
   "cell_type": "markdown",
   "metadata": {
    "id": "Y_YdMvB7Oa1R"
   },
   "source": [
    "# Format patient info "
   ]
  },
  {
   "cell_type": "markdown",
   "metadata": {
    "id": "LPO0-POmSt_d"
   },
   "source": [
    "## Create a dictonary of the medical records csvs and a list of patients "
   ]
  },
  {
   "cell_type": "code",
   "execution_count": 5,
   "metadata": {
    "executionInfo": {
     "elapsed": 12887,
     "status": "ok",
     "timestamp": 1649119477225,
     "user": {
      "displayName": "Jeremiah Dibble",
      "userId": "14025311526177951539"
     },
     "user_tz": 420
    },
    "id": "-vjXP9-Z9l6p"
   },
   "outputs": [],
   "source": [
    "csvs = {}\n",
    "synthea =  \"C:/Users/Jerem/OneDrive/Business/NN_health/Synthea/colab_records\"\n",
    "csv_loc = synthea+'/2022_04_04T07_13_58Z/'\n",
    "csv_names = os.listdir(csv_loc)\n",
    "for i, name in enumerate(csv_names):\n",
    "    csv_names[i] = name[:-4]\n",
    "    csvs[name[:-4]] = pd.read_csv(csv_loc+ name)\n"
   ]
  },
  {
   "cell_type": "code",
   "execution_count": 6,
   "metadata": {
    "executionInfo": {
     "elapsed": 5,
     "status": "ok",
     "timestamp": 1649119477226,
     "user": {
      "displayName": "Jeremiah Dibble",
      "userId": "14025311526177951539"
     },
     "user_tz": 420
    },
    "id": "ri5GHpFG9c-0"
   },
   "outputs": [],
   "source": [
    "\n",
    "info_keys = ['allergies', 'medications', 'conditions', 'careplans', \n",
    "             'observations', 'procedures', 'immunizations', 'imaging_studies']"
   ]
  },
  {
   "cell_type": "code",
   "execution_count": 7,
   "metadata": {
    "colab": {
     "base_uri": "https://localhost:8080/"
    },
    "executionInfo": {
     "elapsed": 224,
     "status": "ok",
     "timestamp": 1649119477446,
     "user": {
      "displayName": "Jeremiah Dibble",
      "userId": "14025311526177951539"
     },
     "user_tz": 420
    },
    "id": "93bToCA1xdZN",
    "outputId": "a9b656d0-0003-452b-ee39-6d44be21aff0"
   },
   "outputs": [
    {
     "name": "stdout",
     "output_type": "stream",
     "text": [
      "Number of patients:  1140\n"
     ]
    }
   ],
   "source": [
    "ids = np.array(csvs['procedures']['PATIENT'])\n",
    "\n",
    "for info_key in info_keys:\n",
    "    csv = csvs[info_key]\n",
    "    if 'PATIENTID' in csv.keys():\n",
    "        key = \"PATIENTID\"\n",
    "    else:\n",
    "        key = \"PATIENT\"\n",
    "    uniq_ids = csv[key].unique()\n",
    "    ids = np.concatenate((ids, np.array(uniq_ids)), axis=0)\n",
    "ids = np.unique(ids)\n",
    "print('Number of patients: ', ids.shape[0])"
   ]
  },
  {
   "cell_type": "markdown",
   "metadata": {
    "id": "ayS9MD34TRiu"
   },
   "source": [
    "Next we will make a list filled with a dictonary for each patient (patients_info). Each dictonary will contain keys for the patient name, each record csv, and info. Info contains the full text of all the record csvs for this patient.\n",
    "\n",
    "gt_patients_info is a list where each index corresponds to the same index in patients_info and contains the true insurance codes coressponding to each patinet.\n",
    "\n",
    "gt_dict, Lastly gt_dict is a dictonary containing a key for each patient found in \"ids\" and all the insurance codes for the associated key/patients \n",
    "\n"
   ]
  },
  {
   "cell_type": "code",
   "execution_count": 8,
   "metadata": {
    "executionInfo": {
     "elapsed": 242471,
     "status": "ok",
     "timestamp": 1649119719915,
     "user": {
      "displayName": "Jeremiah Dibble",
      "userId": "14025311526177951539"
     },
     "user_tz": 420
    },
    "id": "xyKoFe9fp9yK"
   },
   "outputs": [],
   "source": [
    "patients_info = []\n",
    "gt_patients_info = []\n",
    "gt_dict = {}\n",
    "for patient in ids:\n",
    "    patient_dict = {}\n",
    "    patient_dict['name'] = patient\n",
    "    info_list = []\n",
    "    gt_list = []\n",
    "    for info_key in info_keys:\n",
    "        csv = csvs[info_key]\n",
    "        # print(csv.keys())\n",
    "        # print(info_key)\n",
    "        if 'PATIENTID' in csv.keys():\n",
    "            key = \"PATIENTID\"\n",
    "        else:\n",
    "            key = \"PATIENT\"\n",
    "        try:\n",
    "            data =np.array(csv.groupby(by = [key]).get_group(patient)['DESCRIPTION'])\n",
    "            gt = np.array(csv.groupby(by = [key]).get_group(patient)['CODE'])\n",
    "            patient_dict[info_key] = data\n",
    "            info_list  = np.concatenate((info_list, data))\n",
    "            gt_list = np.concatenate((gt_list, gt))\n",
    "        except:\n",
    "            \n",
    "            pass\n",
    "    patient_dict['info'] = info_list\n",
    "    patients_info.append(patient_dict)\n",
    "    gt_patients_info.append(gt_list) \n",
    "    gt_dict[patient] = gt_list"
   ]
  },
  {
   "cell_type": "code",
   "execution_count": 9,
   "metadata": {
    "colab": {
     "base_uri": "https://localhost:8080/"
    },
    "executionInfo": {
     "elapsed": 7,
     "status": "ok",
     "timestamp": 1649119719916,
     "user": {
      "displayName": "Jeremiah Dibble",
      "userId": "14025311526177951539"
     },
     "user_tz": 420
    },
    "id": "wa0ONC7EV_nu",
    "outputId": "8694d486-7552-4e65-a601-b56e4e683a8b"
   },
   "outputs": [
    {
     "data": {
      "text/plain": [
       "dict_keys(['name', 'medications', 'conditions', 'careplans', 'observations', 'procedures', 'immunizations', 'info'])"
      ]
     },
     "execution_count": 9,
     "metadata": {},
     "output_type": "execute_result"
    }
   ],
   "source": [
    "patients_info[0].keys()\n"
   ]
  },
  {
   "cell_type": "code",
   "execution_count": 13,
   "metadata": {},
   "outputs": [
    {
     "data": {
      "text/plain": [
       "'text'"
      ]
     },
     "execution_count": 13,
     "metadata": {},
     "output_type": "execute_result"
    }
   ],
   "source": [
    "synthea\n",
    "text_loc\n",
    "name"
   ]
  },
  {
   "cell_type": "markdown",
   "metadata": {
    "id": "PIlVQTjAVrDy"
   },
   "source": [
    "Text_dict simply contains all of the patients record names as keys and the file text content as the value"
   ]
  },
  {
   "cell_type": "code",
   "execution_count": 10,
   "metadata": {
    "executionInfo": {
     "elapsed": 1459,
     "status": "ok",
     "timestamp": 1649119721371,
     "user": {
      "displayName": "Jeremiah Dibble",
      "userId": "14025311526177951539"
     },
     "user_tz": 420
    },
    "id": "ZyL0zFHxIDaq"
   },
   "outputs": [],
   "source": [
    "texts_dict = {}\n",
    "texts = []\n",
    "text_loc = synthea+'/text/text/'\n",
    "text_names = os.listdir(text_loc)\n",
    "for i, name in enumerate(text_names):\n",
    "    text_names[i] = name[:-4]\n",
    "    file = open(text_loc+ name, encoding=\"utf8\")\n",
    "    text=file.readlines()\n",
    "    # with open(text_loc+ name) as f:\n",
    "    #     text = f.readlines()\n",
    "    texts_dict[name[:-4]] = text\n",
    "    texts.append(text)"
   ]
  },
  {
   "cell_type": "markdown",
   "metadata": {
    "id": "iOPbuvLJd3-D"
   },
   "source": [
    "Map texts to embeded csv"
   ]
  },
  {
   "cell_type": "code",
   "execution_count": 14,
   "metadata": {
    "executionInfo": {
     "elapsed": 149,
     "status": "ok",
     "timestamp": 1649120613724,
     "user": {
      "displayName": "Jeremiah Dibble",
      "userId": "14025311526177951539"
     },
     "user_tz": 420
    },
    "id": "SK5dVg4FQ1Sx"
   },
   "outputs": [],
   "source": [
    "length = 0\n",
    "for text in texts:\n",
    "    length += len(text)"
   ]
  },
  {
   "cell_type": "code",
   "execution_count": 35,
   "metadata": {},
   "outputs": [
    {
     "ename": "FileNotFoundError",
     "evalue": "[WinError 3] The system cannot find the path specified: 'C:\\\\Users\\\\Jerem\\\\OneDrive\\\\Business\\\\NN_health\\\\Synthea\\\\colab_records\\\\text\\\\csv'",
     "output_type": "error",
     "traceback": [
      "\u001b[1;31m---------------------------------------------------------------------------\u001b[0m",
      "\u001b[1;31mFileNotFoundError\u001b[0m                         Traceback (most recent call last)",
      "Input \u001b[1;32mIn [35]\u001b[0m, in \u001b[0;36m<cell line: 1>\u001b[1;34m()\u001b[0m\n\u001b[1;32m----> 1\u001b[0m \u001b[43mos\u001b[49m\u001b[38;5;241;43m.\u001b[39;49m\u001b[43mlistdir\u001b[49m\u001b[43m(\u001b[49m\u001b[43mos\u001b[49m\u001b[38;5;241;43m.\u001b[39;49m\u001b[43mpath\u001b[49m\u001b[38;5;241;43m.\u001b[39;49m\u001b[43mabspath\u001b[49m\u001b[43m(\u001b[49m\u001b[43mtext_loc\u001b[49m\u001b[38;5;241;43m+\u001b[39;49m\u001b[38;5;124;43m'\u001b[39;49m\u001b[38;5;124;43m../csv/\u001b[39;49m\u001b[38;5;124;43m'\u001b[39;49m\u001b[43m)\u001b[49m\u001b[43m)\u001b[49m\n",
      "\u001b[1;31mFileNotFoundError\u001b[0m: [WinError 3] The system cannot find the path specified: 'C:\\\\Users\\\\Jerem\\\\OneDrive\\\\Business\\\\NN_health\\\\Synthea\\\\colab_records\\\\text\\\\csv'"
     ]
    }
   ],
   "source": [
    "os.listdir(os.path.abspath(text_loc+'../csv/'))"
   ]
  },
  {
   "cell_type": "markdown",
   "metadata": {},
   "source": [
    "# Text to csv"
   ]
  },
  {
   "cell_type": "code",
   "execution_count": 71,
   "metadata": {},
   "outputs": [],
   "source": [
    "from datetime import datetime\n",
    "\n",
    "\n",
    "def text_to_csv(text_loc, text_name, time=False):\n",
    "    start = datetime.now()\n",
    "    patient = text_name[:-4]\n",
    "    csv_name = patient+'.csv'\n",
    "    csv_loc = os.path.abspath(text_loc+'../encoded_text/'+csv_name)\n",
    "    if os.path.exists(os.path.abspath(csv_loc)):   #not (csv_name in os.listdir(os.path.abspath(text_loc+'../encoded_text/'))):\n",
    "        embeded_text= pd.read_csv(csv_loc)\n",
    "        length = len(embeded_text)\n",
    "    else:\n",
    "        file = open(text_loc+ text_name, encoding=\"utf8\")\n",
    "        text=file.readlines()\n",
    "        embeding = list(model.encode(text))\n",
    "        length =len(text)\n",
    "        column_patient = len(text)*[patient]\n",
    "        embeded_text = pd.DataFrame({'Patient':column_patient, 'Text': text, 'Embeding': embeding}, index=np.arange(0,length, 1))\n",
    "        embeded_text.to_csv(csv_loc)\n",
    "    stop = datetime.now()\n",
    "    if time:\n",
    "        seconds = (stop-start)\n",
    "        rate = seconds/length\n",
    "        print(\"This file took: \", seconds)\n",
    "        print('At a rate of ' + str(rate) +' per line')\n",
    "    return embeded_text"
   ]
  },
  {
   "cell_type": "code",
   "execution_count": 73,
   "metadata": {},
   "outputs": [
    {
     "name": "stdout",
     "output_type": "stream",
     "text": [
      "This file took:  0:00:57.139560\n",
      "At a rate of 0:00:00.058605 per line\n"
     ]
    }
   ],
   "source": [
    "c=[]\n",
    "a= text_to_csv(text_loc, os.listdir(text_loc)[-3], time=True)\n",
    "c.append(a)"
   ]
  },
  {
   "cell_type": "code",
   "execution_count": 75,
   "metadata": {},
   "outputs": [
    {
     "data": {
      "text/plain": [
       "555"
      ]
     },
     "execution_count": 75,
     "metadata": {},
     "output_type": "execute_result"
    }
   ],
   "source": [
    "len(embeded_dfs)"
   ]
  },
  {
   "cell_type": "code",
   "execution_count": 76,
   "metadata": {},
   "outputs": [
    {
     "name": "stdout",
     "output_type": "stream",
     "text": [
      "C:/Users/Jerem/OneDrive/Business/NN_health/Synthea/colab_records/text/text/../encoded_text/\n"
     ]
    },
    {
     "data": {
      "application/vnd.jupyter.widget-view+json": {
       "model_id": "3010aeded4634efaa2bea15fc07ba580",
       "version_major": 2,
       "version_minor": 0
      },
      "text/plain": [
       "  0%|          | 0/1140 [00:00<?, ?it/s]"
      ]
     },
     "metadata": {},
     "output_type": "display_data"
    }
   ],
   "source": [
    "from tqdm.auto import tqdm\n",
    "embeded_dfs =[]\n",
    "text_loc = synthea+'/text/text/'\n",
    "print(text_loc+'../encoded_text/')\n",
    "for text_name in tqdm(os.listdir(text_loc)):\n",
    "    embeded_dfs.append(text_to_csv(text_loc, text_name))"
   ]
  },
  {
   "cell_type": "code",
   "execution_count": 23,
   "metadata": {
    "executionInfo": {
     "elapsed": 410,
     "status": "ok",
     "timestamp": 1649124242832,
     "user": {
      "displayName": "Jeremiah Dibble",
      "userId": "14025311526177951539"
     },
     "user_tz": 420
    },
    "id": "CVmwf35HP6oR"
   },
   "outputs": [],
   "source": [
    "embeded_texts = pd.DataFrame(columns=['patient','text','embeding'], index=np.arange(0,length, 1))"
   ]
  },
  {
   "cell_type": "code",
   "execution_count": 24,
   "metadata": {
    "executionInfo": {
     "elapsed": 737,
     "status": "ok",
     "timestamp": 1649125225696,
     "user": {
      "displayName": "Jeremiah Dibble",
      "userId": "14025311526177951539"
     },
     "user_tz": 420
    },
    "id": "cebBQaaVhD4Y"
   },
   "outputs": [],
   "source": [
    "key = 'Leland44_Koelpin146_625911f7-0373-544d-0429-94111e133fcb'\n",
    "text = texts_dict[key][0]\n",
    "embeding=model.encode(text)"
   ]
  },
  {
   "cell_type": "code",
   "execution_count": null,
   "metadata": {
    "colab": {
     "base_uri": "https://localhost:8080/",
     "height": 35
    },
    "executionInfo": {
     "elapsed": 158,
     "status": "ok",
     "timestamp": 1649125191409,
     "user": {
      "displayName": "Jeremiah Dibble",
      "userId": "14025311526177951539"
     },
     "user_tz": 420
    },
    "id": "Db2p0FKqhWiD",
    "outputId": "5e93ed62-6d82-420c-8476-17a59e7647f0"
   },
   "outputs": [],
   "source": [
    "text"
   ]
  },
  {
   "cell_type": "code",
   "execution_count": null,
   "metadata": {
    "colab": {
     "base_uri": "https://localhost:8080/"
    },
    "executionInfo": {
     "elapsed": 145,
     "status": "ok",
     "timestamp": 1649125359876,
     "user": {
      "displayName": "Jeremiah Dibble",
      "userId": "14025311526177951539"
     },
     "user_tz": 420
    },
    "id": "772mbuVwgQpa",
    "outputId": "3495c78f-9c2c-4eaa-8a0f-a1b801ae2dba"
   },
   "outputs": [],
   "source": [
    "embeded_texts.iloc[0,:]= [key,text,embeding]"
   ]
  },
  {
   "cell_type": "code",
   "execution_count": 44,
   "metadata": {},
   "outputs": [
    {
     "data": {
      "text/plain": [
       "array(nan)"
      ]
     },
     "execution_count": 44,
     "metadata": {},
     "output_type": "execute_result"
    }
   ],
   "source": [
    "np.array(embeded_texts.iloc[2,:][0])"
   ]
  },
  {
   "cell_type": "code",
   "execution_count": 74,
   "metadata": {},
   "outputs": [
    {
     "data": {
      "text/plain": [
       "'Aaron697_McGlynn426_531c8d38-eddc-cd04-49e4-a3cf71dbee3e'"
      ]
     },
     "execution_count": 74,
     "metadata": {},
     "output_type": "execute_result"
    }
   ],
   "source": [
    "embeded_texts.iloc[i,:][0]"
   ]
  },
  {
   "cell_type": "code",
   "execution_count": 83,
   "metadata": {},
   "outputs": [
    {
     "data": {
      "text/plain": [
       "False"
      ]
     },
     "execution_count": 83,
     "metadata": {},
     "output_type": "execute_result"
    }
   ],
   "source": [
    "type(embeded_texts.iloc[946585,:][0]) == type('s')"
   ]
  },
  {
   "cell_type": "code",
   "execution_count": 82,
   "metadata": {},
   "outputs": [
    {
     "data": {
      "text/plain": [
       "True"
      ]
     },
     "execution_count": 82,
     "metadata": {},
     "output_type": "execute_result"
    }
   ],
   "source": [
    "np.isnan(embeded_texts.iloc[946585,:][0])"
   ]
  },
  {
   "cell_type": "code",
   "execution_count": 27,
   "metadata": {},
   "outputs": [
    {
     "data": {
      "text/plain": [
       "314"
      ]
     },
     "execution_count": 27,
     "metadata": {},
     "output_type": "execute_result"
    }
   ],
   "source": [
    "len(list(embeding))"
   ]
  },
  {
   "cell_type": "code",
   "execution_count": 30,
   "metadata": {
    "tags": []
   },
   "outputs": [],
   "source": [
    "embeded_texts.to_csv(text_loc+'../encoded_text/'+csv_name)"
   ]
  },
  {
   "cell_type": "code",
   "execution_count": 28,
   "metadata": {},
   "outputs": [],
   "source": [
    "#embeded_texts = pd.DataFrame(columns=['patient','text','embeding'], index=np.arange(0,length, 1))\n",
    "text_name = os.listdir(text_loc)[0]\n",
    "patient = text_name[:-4]\n",
    "csv_name = patient+'.csv'\n",
    "if not (csv_name in os.listdir(text_loc+'../encoded_text/')):\n",
    "    file = open(text_loc+ text_name, encoding=\"utf8\")\n",
    "    text=file.readlines()\n",
    "    embeding = list(model.encode(text))\n",
    "    length =len(text)\n",
    "    column_patient = len(text)*[patient]\n",
    "    embeded_text  = pd.DataFrame({'Patient':column_patient, 'Text': text, 'Embeding': embeding}, index=np.arange(0,length, 1))\n",
    "    embeded_text.to_csv(text_loc+'../encoded_text/'+csv_name)"
   ]
  },
  {
   "cell_type": "code",
   "execution_count": null,
   "metadata": {},
   "outputs": [],
   "source": [
    "def text_to_csv(text_loc, text_name):\n",
    "    patient = text_name[:-4]\n",
    "    csv_name = patient+'.csv'\n",
    "    if not (csv_name in os.listdir(text_loc+'../csv/')):\n",
    "        file = open(text_loc+ text_name, encoding=\"utf8\")\n",
    "        text=file.readlines()\n",
    "        embeding = model.encode(text)\n",
    "        length =len(text)\n",
    "        column_patient = len(text)*[patient]\n",
    "        embeded_text = pd.DataFrame({'Patient':column_patient, 'Text': text, 'Embeding': embeding}, index=np.arange(0,length, 1))\n",
    "        embeded_text.to_csv(text_loc+'../encoded_text/'+csv_name)\n",
    "    return embeded_text\n",
    "    "
   ]
  },
  {
   "cell_type": "code",
   "execution_count": null,
   "metadata": {
    "colab": {
     "base_uri": "https://localhost:8080/"
    },
    "id": "6FeXH101eNvg",
    "outputId": "0fdc00f7-2778-4f9f-8b66-9b9a2b9bd604",
    "tags": []
   },
   "outputs": [
    {
     "name": "stderr",
     "output_type": "stream",
     "text": [
      "C:\\Users\\Jerem\\anaconda3\\envs\\CogAI\\lib\\site-packages\\pandas\\core\\internals\\blocks.py:922: VisibleDeprecationWarning: Creating an ndarray from ragged nested sequences (which is a list-or-tuple of lists-or-tuples-or ndarrays with different lengths or shapes) is deprecated. If you meant to do this, you must specify 'dtype=object' when creating the ndarray.\n",
      "  arr_value = np.asarray(value)\n"
     ]
    },
    {
     "name": "stdout",
     "output_type": "stream",
     "text": [
      "Adriana394_Mora209_ea0ef562-c9fc-3142-1bfc-2f30582c99b1\n",
      "Adriana394_Mora209_ea0ef562-c9fc-3142-1bfc-2f30582c99b1\n",
      "Adriana394_Mora209_ea0ef562-c9fc-3142-1bfc-2f30582c99b1\n"
     ]
    }
   ],
   "source": [
    "i = 0\n",
    "for key in list(texts_dict.keys())[int(indexs[0]):int(indexs[1])]:\n",
    "    patient = key\n",
    "    for line in texts_dict[key]:\n",
    "        try:\n",
    "            if type(embeded_texts.iloc[i,:][0]) == type('s'):\n",
    "                embeding = model.encode(line)\n",
    "                embeded_texts.iloc[i,:]= [patient,line,embeding]\n",
    "        except:\n",
    "            print(embeded_texts.iloc[i,:][0])\n",
    "    i += 1\n",
    "    if (i%1000) == 0:\n",
    "        print(i)\n"
   ]
  },
  {
   "cell_type": "code",
   "execution_count": null,
   "metadata": {},
   "outputs": [],
   "source": [
    "embeded_texts"
   ]
  },
  {
   "cell_type": "code",
   "execution_count": 93,
   "metadata": {},
   "outputs": [],
   "source": [
    "lenkey =len(list(texts_dict.keys()))\n",
    "indexs = np.arange(0,lenkey, lenkey/4)"
   ]
  },
  {
   "cell_type": "code",
   "execution_count": 94,
   "metadata": {},
   "outputs": [
    {
     "data": {
      "text/plain": [
       "285.0"
      ]
     },
     "execution_count": 94,
     "metadata": {},
     "output_type": "execute_result"
    }
   ],
   "source": [
    "lenkey/4"
   ]
  },
  {
   "cell_type": "code",
   "execution_count": null,
   "metadata": {
    "colab": {
     "base_uri": "https://localhost:8080/"
    },
    "executionInfo": {
     "elapsed": 198,
     "status": "ok",
     "timestamp": 1649104365530,
     "user": {
      "displayName": "Jeremiah Dibble",
      "userId": "14025311526177951539"
     },
     "user_tz": 420
    },
    "id": "gHFY_E-NQ2FQ",
    "outputId": "3c179677-311e-4b1c-dc95-4303ed9680bf"
   },
   "outputs": [
    {
     "name": "stdout",
     "output_type": "stream",
     "text": [
      "None\n"
     ]
    }
   ],
   "source": [
    "xprint(patients_info.append(patient_dict['info']))\n"
   ]
  },
  {
   "cell_type": "code",
   "execution_count": 86,
   "metadata": {},
   "outputs": [
    {
     "data": {
      "text/plain": [
       "946590"
      ]
     },
     "execution_count": 86,
     "metadata": {},
     "output_type": "execute_result"
    }
   ],
   "source": [
    "len(list(texts_dict.keys()))\n",
    "length"
   ]
  },
  {
   "cell_type": "code",
   "execution_count": null,
   "metadata": {
    "id": "X3JcYS-xR1nD"
   },
   "outputs": [],
   "source": [
    "patients_info[0]['info']"
   ]
  },
  {
   "cell_type": "code",
   "execution_count": 66,
   "metadata": {
    "colab": {
     "base_uri": "https://localhost:8080/"
    },
    "executionInfo": {
     "elapsed": 169,
     "status": "ok",
     "timestamp": 1649124607302,
     "user": {
      "displayName": "Jeremiah Dibble",
      "userId": "14025311526177951539"
     },
     "user_tz": 420
    },
    "id": "Jqlo6tqkR-aQ",
    "outputId": "937e212c-ee80-4c33-f923-89602fb045e1"
   },
   "outputs": [
    {
     "data": {
      "text/plain": [
       "682"
      ]
     },
     "execution_count": 66,
     "metadata": {},
     "output_type": "execute_result"
    }
   ],
   "source": [
    "len(texts[0])"
   ]
  },
  {
   "cell_type": "code",
   "execution_count": 25,
   "metadata": {
    "id": "9EZVHDOWfFIT"
   },
   "outputs": [
    {
     "ename": "TypeError",
     "evalue": "unhashable type: 'slice'",
     "output_type": "error",
     "traceback": [
      "\u001b[1;31m---------------------------------------------------------------------------\u001b[0m",
      "\u001b[1;31mTypeError\u001b[0m                                 Traceback (most recent call last)",
      "Input \u001b[1;32mIn [25]\u001b[0m, in \u001b[0;36m<cell line: 1>\u001b[1;34m()\u001b[0m\n\u001b[1;32m----> 1\u001b[0m \u001b[43mtexts_dict\u001b[49m\u001b[43m[\u001b[49m\u001b[43m:\u001b[49m\u001b[38;5;241;43m10\u001b[39;49m\u001b[43m]\u001b[49m\n",
      "\u001b[1;31mTypeError\u001b[0m: unhashable type: 'slice'"
     ]
    }
   ],
   "source": [
    "texts_dict"
   ]
  },
  {
   "cell_type": "code",
   "execution_count": null,
   "metadata": {},
   "outputs": [],
   "source": []
  }
 ],
 "metadata": {
  "colab": {
   "authorship_tag": "ABX9TyNS5gF9TXcDNUUdkFzYAFmY",
   "name": "Bio_encoder.ipynb",
   "provenance": []
  },
  "kernelspec": {
   "display_name": "Python 3 (ipykernel)",
   "language": "python",
   "name": "python3"
  },
  "language_info": {
   "codemirror_mode": {
    "name": "ipython",
    "version": 3
   },
   "file_extension": ".py",
   "mimetype": "text/x-python",
   "name": "python",
   "nbconvert_exporter": "python",
   "pygments_lexer": "ipython3",
   "version": "3.8.12"
  }
 },
 "nbformat": 4,
 "nbformat_minor": 4
}
